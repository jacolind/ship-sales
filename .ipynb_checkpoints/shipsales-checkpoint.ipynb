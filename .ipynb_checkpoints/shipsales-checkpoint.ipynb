{
 "cells": [
  {
   "cell_type": "markdown",
   "metadata": {},
   "source": [
    "# Introduction\n",
    "\n",
    "We are given several excel-files of a company, and we wish to answer some basic questions about this company regarding revenues, margins and customers."
   ]
  },
  {
   "cell_type": "markdown",
   "metadata": {},
   "source": [
    "# Executive summary"
   ]
  },
  {
   "cell_type": "markdown",
   "metadata": {},
   "source": [
    "Firstly, some aggreagate information:\n",
    "\n",
    "- Total profit:  870,989\n",
    "- Total revenue:  4972,965\n",
    "- Profit margin:  18.0 %\n",
    "- Mean revenue per order: 756.8\n",
    "- Median revenue per order: 199.3\n",
    "- The order size is usually 2-3 products\n",
    "- Nr of suppliers:  29\n",
    "- Nr of customers: 90\n",
    "- Average discount:  14.4 %\n",
    "- There is no seasonality, so the revenue and profit is distributed uniformly during the year. \n",
    "\n",
    "From the graph below, we see which products are the most popular.\n",
    "\n",
    "![Most popular categories](https://www.dropbox.com/s/hz1w8wer3fdphk1/most_pop_cat.png?dl=1)\n",
    "\n",
    "From the graph below, we see how the profit och revenue has developed over the years.\n",
    "\n",
    "![Profit over the years](https://www.dropbox.com/s/fml01tiq7askn4f/profit_price_years.png?dl=1)\n",
    "\n",
    "There are  77 different products. The 50 least profitable products stand for  3.3 % of total profit\n",
    "\n",
    "The single most profitable product stands for  36.0 % of the total profits\n",
    "Five most profitable products and their % contributed profit:\n",
    "\n",
    "```\n",
    "PRODUCT            PROFIT\n",
    "Halter Dress       36.1%\n",
    "Davenport Shoes    14.6%\n",
    "Tennis Suit         5.4%\n",
    "RDL Suit            5.3%\n",
    "WFS Shoes           3.3%\n",
    "```\n",
    "\n",
    "It is statistically significant that, for the top 2 products:\n",
    "(i) The quantity is higher when there is a discount, and\n",
    "(ii) The profit per order is lower when there is a discount.\n",
    "Based on these findings, a discussion of whether discounts should be reduced or eliminated migh be fruitful.\n",
    "\n",
    "The seasonality for the top 2 products, Halter Dress and Davenport Shoes, is slightly higher than for all the products - we can see that these 2 products have slighlty more profit in December than during other months. \n",
    "\n",
    "Having said that, when we look at profit over year & month (i.e. we graph y=profit x=yearmonth) we can see that some months sell much better than others - even much better than December that year. It is unclear why these months sell so good. We need more data to know why. This is evident from the table below, because if all months sold equally well, the profit percentage for any months would be 1.8% but for the five best selling months in the dataset, we see profits more than 2 times 1.8%\n",
    "\n",
    "```\n",
    "YEARMONTH  PROFIT\n",
    "2014-02    3.87%\n",
    "2014-03    3.98%\n",
    "2015-05    4.16%\n",
    "2014-12    4.78%\n",
    "2014-10    4.88%\n",
    "```\n",
    "\n",
    "These well performing months should be looked into further. \n",
    "\n"
   ]
  },
  {
   "cell_type": "markdown",
   "metadata": {},
   "source": [
    "# Analysis\n",
    "\n",
    "Below we perform the analysis that was summarized in the executive summary above."
   ]
  },
  {
   "cell_type": "markdown",
   "metadata": {},
   "source": [
    "## Libraries"
   ]
  },
  {
   "cell_type": "code",
   "execution_count": 1,
   "metadata": {
    "collapsed": true
   },
   "outputs": [],
   "source": [
    "import glob\n",
    "import pandas as pd\n",
    "import numpy as np\n",
    "import matplotlib.pyplot as plt\n",
    "%matplotlib inline\n",
    "import seaborn as sns\n",
    "from scipy.stats import ttest_ind"
   ]
  },
  {
   "cell_type": "markdown",
   "metadata": {},
   "source": [
    "## Import data "
   ]
  },
  {
   "cell_type": "code",
   "execution_count": 4,
   "metadata": {},
   "outputs": [],
   "source": [
    "# Load datasets\n",
    "Categories = pd.read_excel('datasets/Categories.xlsx')\n",
    "Customers = pd.read_excel('datasets/Customers.xlsx')\n",
    "Divisions = pd.read_excel('datasets/Divisions.xlsx')\n",
    "Orderdetails = pd.read_excel('datasets/Orderdetails.xlsx')\n",
    "Orders = pd.read_excel('datasets/Orders.xlsx')\n",
    "Products = pd.read_excel('datasets/Products.xlsx')\n",
    "Shipments = pd.read_excel('datasets/Shipments.xlsx')\n",
    "Shippers = pd.read_excel('datasets/Shippers.xlsx')"
   ]
  },
  {
   "cell_type": "code",
   "execution_count": 5,
   "metadata": {
    "collapsed": true
   },
   "outputs": [],
   "source": [
    "datafiles = [Categories, Customers, Divisions, \n",
    "             Orderdetails, Orders, Products, \n",
    "            Shipments, Shippers]"
   ]
  },
  {
   "cell_type": "markdown",
   "metadata": {},
   "source": [
    "## First inspection"
   ]
  },
  {
   "cell_type": "code",
   "execution_count": 7,
   "metadata": {},
   "outputs": [
    {
     "name": "stdout",
     "output_type": "stream",
     "text": [
      "(8, 3)\n",
      "(92, 11)\n",
      "(4, 2)\n",
      "(17032, 6)\n",
      "(6571, 6)\n",
      "(77, 9)\n",
      "(17032, 7)\n",
      "(3, 2)\n"
     ]
    }
   ],
   "source": [
    "# see dimensions\n",
    "for file in datafiles:\n",
    "    print(file.shape)"
   ]
  },
  {
   "cell_type": "markdown",
   "metadata": {},
   "source": [
    "As evident from the printout above, the lowest three should be merged first. The other dataframes are merely lookup tables."
   ]
  },
  {
   "cell_type": "code",
   "execution_count": 8,
   "metadata": {},
   "outputs": [
    {
     "name": "stdout",
     "output_type": "stream",
     "text": [
      "['CategoryID', 'CategoryName', 'Description'] \n",
      "\n",
      "['CustomerID', 'CompanyName', 'ContactName', 'City', 'Country', 'DivisionID', 'Address', 'Fax', 'Phone', 'PostalCode', 'StateProvince'] \n",
      "\n",
      "['DivisionID', 'DivisionName'] \n",
      "\n",
      "['OrderID', 'LineNo', 'ProductID', 'Quantity', 'UnitPrice', 'Discount'] \n",
      "\n",
      "['OrderID', 'OrderDate', 'CustomerID', 'EmployeeID', 'ShipperID', 'Freight'] \n",
      "\n",
      "['ProductID', 'ProductName', 'SupplierID', 'CategoryID', 'QuantityPerUnit', 'UnitCost', 'UnitPrice', 'UnitsInStock', 'UnitsOnOrder'] \n",
      "\n",
      "['OrderID', 'LineNo', 'ShipperID', 'CustomerID', 'ProductID', 'EmployeeID', 'ShipmentDate'] \n",
      "\n",
      "['ShipperID', 'CompanyName'] \n",
      "\n"
     ]
    }
   ],
   "source": [
    "# see columns \n",
    "for file in datafiles:\n",
    "    print(file.columns.tolist(), \"\\n\")"
   ]
  },
  {
   "cell_type": "markdown",
   "metadata": {},
   "source": [
    "## Merge datasets\n",
    "\n",
    "We will merge all the datasets into one dataframe called `df`.\n",
    "\n",
    "`df` should be in _tidy_ data format.\n",
    "\n",
    "Step 1: left join Shipments and Orders.\n",
    "\n",
    "Step 2: inner join Shipments and OrderDetails.\n",
    "\n",
    "Step 3: replace the ID cols with the proper name:\n",
    "\n",
    "- from ShipperID to CompanyName\n",
    "- from ProductID to {all cols in that dataframe}.\n",
    "- from CustomerID to CompanyName, City, Country. The other variables are dropped because the are not interesting (e.g. Phone nr is not important to analyze and StateProvince has high NA frequency.)\n",
    "- from DivisionID to its name\n",
    "- from CategoryID to its name\n",
    "\n",
    "EmployeeID is kept as is. We can't know that because there is no lookup table but we keep it to avoid loss of information. Likewise, SupplierID is kept as is.\n",
    "\n",
    "In summary, we merge Shipments, OrderDetails and Orders. Then we fill in the ID columns from the lookup tales. The result is a tidy dataset df where each row is a bought item."
   ]
  },
  {
   "cell_type": "markdown",
   "metadata": {},
   "source": [
    "## Step 1: Shipments & Orders"
   ]
  },
  {
   "cell_type": "code",
   "execution_count": 7,
   "metadata": {},
   "outputs": [
    {
     "data": {
      "text/plain": [
       "['EmployeeID', 'CustomerID', 'ShipperID', 'OrderID']"
      ]
     },
     "execution_count": 7,
     "metadata": {},
     "output_type": "execute_result"
    }
   ],
   "source": [
    "list(set(Shipments.columns) & set(Orders.columns))"
   ]
  },
  {
   "cell_type": "code",
   "execution_count": 8,
   "metadata": {
    "collapsed": true
   },
   "outputs": [],
   "source": [
    "# SHipments and ORders\n",
    "shor = pd.merge(Shipments, Orders, how='left', \n",
    "                on=list(set(Shipments.columns) & set(Orders.columns)))"
   ]
  },
  {
   "cell_type": "code",
   "execution_count": 9,
   "metadata": {
    "collapsed": true
   },
   "outputs": [],
   "source": [
    "assert Shipments.shape[0] == shor.shape[0]"
   ]
  },
  {
   "cell_type": "code",
   "execution_count": 10,
   "metadata": {},
   "outputs": [
    {
     "data": {
      "text/plain": [
       "((17032, 7), (6571, 6), (17032, 9))"
      ]
     },
     "execution_count": 10,
     "metadata": {},
     "output_type": "execute_result"
    }
   ],
   "source": [
    "Shipments.shape, Orders.shape, shor.shape"
   ]
  },
  {
   "cell_type": "markdown",
   "metadata": {},
   "source": [
    "## Step 2: shor & OrderDetails"
   ]
  },
  {
   "cell_type": "code",
   "execution_count": 11,
   "metadata": {},
   "outputs": [
    {
     "data": {
      "text/plain": [
       "((17032, 9), (17032, 6))"
      ]
     },
     "execution_count": 11,
     "metadata": {},
     "output_type": "execute_result"
    }
   ],
   "source": [
    "shor.shape, Orderdetails.shape"
   ]
  },
  {
   "cell_type": "code",
   "execution_count": 12,
   "metadata": {
    "collapsed": true
   },
   "outputs": [],
   "source": [
    "# SHipments and ORders and OrderDetails\n",
    "shorod = pd.merge(shor, Orderdetails, how='left', \n",
    "                  on=list(set(shor.columns) & set(Orderdetails.columns)))"
   ]
  },
  {
   "cell_type": "markdown",
   "metadata": {},
   "source": [
    "## Step 3: Replace some ID columns "
   ]
  },
  {
   "cell_type": "code",
   "execution_count": 13,
   "metadata": {
    "collapsed": true
   },
   "outputs": [],
   "source": [
    "# rename cols\n",
    "Customers.rename(columns={'CompanyName':'CustomerName'}, inplace=True)\n",
    "Shippers.rename(columns={'CompanyName':'ShipperName'}, inplace=True)"
   ]
  },
  {
   "cell_type": "markdown",
   "metadata": {},
   "source": [
    "### Shippers"
   ]
  },
  {
   "cell_type": "code",
   "execution_count": 14,
   "metadata": {},
   "outputs": [
    {
     "data": {
      "text/plain": [
       "array([2, 1, 3, 4, 5])"
      ]
     },
     "execution_count": 14,
     "metadata": {},
     "output_type": "execute_result"
    }
   ],
   "source": [
    "shorod.ShipperID.unique()  "
   ]
  },
  {
   "cell_type": "code",
   "execution_count": 15,
   "metadata": {
    "collapsed": true
   },
   "outputs": [],
   "source": [
    "assert shorod.ShipperID.nunique() > Shippers.ShipperID.nunique()"
   ]
  },
  {
   "cell_type": "markdown",
   "metadata": {},
   "source": [
    "Merging would cause missing values, since the lookup table Shippers is incomplete. For that reason, we do not merge in Shippers but instead rename those IDs that have a name and the rest is kept as IDs."
   ]
  },
  {
   "cell_type": "code",
   "execution_count": 16,
   "metadata": {
    "collapsed": true
   },
   "outputs": [],
   "source": [
    "shorod['ShipperIDorName'] = shorod.ShipperID.replace(Shippers.ShipperName.to_dict())"
   ]
  },
  {
   "cell_type": "markdown",
   "metadata": {},
   "source": [
    "### Products"
   ]
  },
  {
   "cell_type": "code",
   "execution_count": 17,
   "metadata": {
    "collapsed": true
   },
   "outputs": [],
   "source": [
    "# assert we do not have the same NA problem as in Shippers\n",
    "assert Products.ProductID.nunique() == shorod.ProductID.nunique()"
   ]
  },
  {
   "cell_type": "code",
   "execution_count": 18,
   "metadata": {},
   "outputs": [
    {
     "data": {
      "text/plain": [
       "['UnitPrice', 'ProductID']"
      ]
     },
     "execution_count": 18,
     "metadata": {},
     "output_type": "execute_result"
    }
   ],
   "source": [
    "list(set(shorod.columns) & set(Products.columns))"
   ]
  },
  {
   "cell_type": "code",
   "execution_count": 19,
   "metadata": {
    "collapsed": true
   },
   "outputs": [],
   "source": [
    "shorod = pd.merge(shorod, Products, how='left', on='ProductID')"
   ]
  },
  {
   "cell_type": "code",
   "execution_count": 20,
   "metadata": {},
   "outputs": [
    {
     "data": {
      "text/plain": [
       "(17032, 21)"
      ]
     },
     "execution_count": 20,
     "metadata": {},
     "output_type": "execute_result"
    }
   ],
   "source": [
    "shorod.shape"
   ]
  },
  {
   "cell_type": "code",
   "execution_count": 21,
   "metadata": {},
   "outputs": [
    {
     "data": {
      "text/plain": [
       "0.99917801784875526"
      ]
     },
     "execution_count": 21,
     "metadata": {},
     "output_type": "execute_result"
    }
   ],
   "source": [
    "# almost all rows have different prices\n",
    "(shorod.UnitPrice_x != shorod.UnitPrice_y).sum() / shorod.shape[0]"
   ]
  },
  {
   "cell_type": "code",
   "execution_count": 22,
   "metadata": {},
   "outputs": [
    {
     "data": {
      "text/html": [
       "<div>\n",
       "<style>\n",
       "    .dataframe thead tr:only-child th {\n",
       "        text-align: right;\n",
       "    }\n",
       "\n",
       "    .dataframe thead th {\n",
       "        text-align: left;\n",
       "    }\n",
       "\n",
       "    .dataframe tbody tr th {\n",
       "        vertical-align: top;\n",
       "    }\n",
       "</style>\n",
       "<table border=\"1\" class=\"dataframe\">\n",
       "  <thead>\n",
       "    <tr style=\"text-align: right;\">\n",
       "      <th></th>\n",
       "      <th>UnitPrice_x</th>\n",
       "      <th>UnitPrice_y</th>\n",
       "      <th>Discount</th>\n",
       "    </tr>\n",
       "  </thead>\n",
       "  <tbody>\n",
       "    <tr>\n",
       "      <th>5</th>\n",
       "      <td>97.67</td>\n",
       "      <td>99.90</td>\n",
       "      <td>0.15</td>\n",
       "    </tr>\n",
       "    <tr>\n",
       "      <th>7</th>\n",
       "      <td>9.47</td>\n",
       "      <td>10.05</td>\n",
       "      <td>0.15</td>\n",
       "    </tr>\n",
       "    <tr>\n",
       "      <th>9</th>\n",
       "      <td>3.39</td>\n",
       "      <td>3.50</td>\n",
       "      <td>0.05</td>\n",
       "    </tr>\n",
       "    <tr>\n",
       "      <th>10</th>\n",
       "      <td>21.12</td>\n",
       "      <td>19.50</td>\n",
       "      <td>0.05</td>\n",
       "    </tr>\n",
       "    <tr>\n",
       "      <th>12</th>\n",
       "      <td>23.64</td>\n",
       "      <td>25.50</td>\n",
       "      <td>0.05</td>\n",
       "    </tr>\n",
       "  </tbody>\n",
       "</table>\n",
       "</div>"
      ],
      "text/plain": [
       "    UnitPrice_x  UnitPrice_y  Discount\n",
       "5         97.67        99.90      0.15\n",
       "7          9.47        10.05      0.15\n",
       "9          3.39         3.50      0.05\n",
       "10        21.12        19.50      0.05\n",
       "12        23.64        25.50      0.05"
      ]
     },
     "execution_count": 22,
     "metadata": {},
     "output_type": "execute_result"
    }
   ],
   "source": [
    "# from looking here it is not due to the discount\n",
    "shorod.loc[shorod.Discount > 0, ['UnitPrice_x', 'UnitPrice_y', 'Discount']].head()"
   ]
  },
  {
   "cell_type": "code",
   "execution_count": 23,
   "metadata": {},
   "outputs": [
    {
     "data": {
      "text/plain": [
       "(97.67, 84.915, 99.75)"
      ]
     },
     "execution_count": 23,
     "metadata": {},
     "output_type": "execute_result"
    }
   ],
   "source": [
    "# the discount does not explain it\n",
    "97.67, 99.9*(1-0.15), 99.9-0.15"
   ]
  },
  {
   "cell_type": "markdown",
   "metadata": {},
   "source": [
    "We do not know which price, the one from Orderdetails or from Products is the correct one. We suspect Orderdetails is more correct (up to date) so we choose that one. "
   ]
  },
  {
   "cell_type": "code",
   "execution_count": 24,
   "metadata": {
    "collapsed": true
   },
   "outputs": [],
   "source": [
    "shorod.drop(['UnitPrice_y'], inplace=True, axis=1)"
   ]
  },
  {
   "cell_type": "code",
   "execution_count": 25,
   "metadata": {
    "collapsed": true
   },
   "outputs": [],
   "source": [
    "shorod.rename(columns={'UnitPrice_x':'UnitPrice'}, inplace=True)"
   ]
  },
  {
   "cell_type": "markdown",
   "metadata": {},
   "source": [
    "### Customers"
   ]
  },
  {
   "cell_type": "code",
   "execution_count": 26,
   "metadata": {
    "collapsed": true
   },
   "outputs": [],
   "source": [
    "shorod = pd.merge(shorod, \n",
    "                  Customers[['CustomerID', 'CustomerName', 'City', 'Country', 'DivisionID']], \n",
    "                  how='left', on='CustomerID')"
   ]
  },
  {
   "cell_type": "code",
   "execution_count": 27,
   "metadata": {},
   "outputs": [
    {
     "data": {
      "text/plain": [
       "(17032, 24)"
      ]
     },
     "execution_count": 27,
     "metadata": {},
     "output_type": "execute_result"
    }
   ],
   "source": [
    "shorod.shape"
   ]
  },
  {
   "cell_type": "markdown",
   "metadata": {},
   "source": [
    "### Divisions"
   ]
  },
  {
   "cell_type": "code",
   "execution_count": 28,
   "metadata": {
    "collapsed": true
   },
   "outputs": [],
   "source": [
    "shorod = pd.merge(shorod, Divisions, how='left', \n",
    "                  on=list(set(shorod.columns) & set(Divisions.columns)))"
   ]
  },
  {
   "cell_type": "code",
   "execution_count": 29,
   "metadata": {},
   "outputs": [
    {
     "data": {
      "text/plain": [
       "(17032, 25)"
      ]
     },
     "execution_count": 29,
     "metadata": {},
     "output_type": "execute_result"
    }
   ],
   "source": [
    "shorod.shape"
   ]
  },
  {
   "cell_type": "code",
   "execution_count": 30,
   "metadata": {
    "collapsed": true
   },
   "outputs": [],
   "source": [
    "shorod = pd.merge(shorod, Categories, how='left', \n",
    "                  on=list(set(shorod.columns) & set(Categories.columns)))"
   ]
  },
  {
   "cell_type": "code",
   "execution_count": 31,
   "metadata": {},
   "outputs": [
    {
     "data": {
      "text/plain": [
       "(17032, 27)"
      ]
     },
     "execution_count": 31,
     "metadata": {},
     "output_type": "execute_result"
    }
   ],
   "source": [
    "shorod.shape"
   ]
  },
  {
   "cell_type": "markdown",
   "metadata": {},
   "source": [
    "## Checkout df\n",
    "\n",
    "The merging is complete. Below we look at some basic properties of our final dataframe."
   ]
  },
  {
   "cell_type": "code",
   "execution_count": 32,
   "metadata": {
    "collapsed": true
   },
   "outputs": [],
   "source": [
    "# rename to df\n",
    "df = shorod"
   ]
  },
  {
   "cell_type": "code",
   "execution_count": 33,
   "metadata": {
    "collapsed": true
   },
   "outputs": [],
   "source": [
    "# sort by date\n",
    "df = df.sort_values('OrderDate')"
   ]
  },
  {
   "cell_type": "code",
   "execution_count": 34,
   "metadata": {
    "collapsed": true
   },
   "outputs": [],
   "source": [
    "# All ID variables can be dropped \n",
    "# except EmployeeID and SupplierID and ShipperID\n",
    "# because they do not have a lookup table\n",
    "cols_ID = ['CustomerID', 'ProductID', 'CategoryID', 'DivisionID']\n",
    "df.drop(cols_ID, inplace=True, axis=1)"
   ]
  },
  {
   "cell_type": "code",
   "execution_count": 35,
   "metadata": {
    "collapsed": true
   },
   "outputs": [],
   "source": [
    "# CategoryName is suffient, the description of the category is not needed\n",
    "df.drop(['Description'], inplace=True, axis=1)"
   ]
  },
  {
   "cell_type": "code",
   "execution_count": 36,
   "metadata": {},
   "outputs": [
    {
     "data": {
      "text/plain": [
       "(17032, 22)"
      ]
     },
     "execution_count": 36,
     "metadata": {},
     "output_type": "execute_result"
    }
   ],
   "source": [
    "df.shape"
   ]
  },
  {
   "cell_type": "code",
   "execution_count": 37,
   "metadata": {
    "collapsed": true
   },
   "outputs": [],
   "source": [
    "n = df.shape[0]"
   ]
  },
  {
   "cell_type": "code",
   "execution_count": 38,
   "metadata": {
    "collapsed": true
   },
   "outputs": [],
   "source": [
    "# zero NA\n",
    "assert df.isnull().sum().sum() == 0"
   ]
  },
  {
   "cell_type": "code",
   "execution_count": 39,
   "metadata": {},
   "outputs": [
    {
     "data": {
      "text/plain": [
       "OrderID                            10248\n",
       "LineNo                                 1\n",
       "ShipperID                              2\n",
       "EmployeeID                             2\n",
       "ShipmentDate         2014-07-17 00:00:00\n",
       "OrderDate            2014-06-29 00:00:00\n",
       "Freight                            43.48\n",
       "Quantity                              10\n",
       "UnitPrice                          14.04\n",
       "Discount                               0\n",
       "ShipperIDorName    World Wide Transports\n",
       "ProductName                Walking Shoes\n",
       "SupplierID                            20\n",
       "QuantityPerUnit                        1\n",
       "UnitCost                           10.95\n",
       "UnitsInStock                          26\n",
       "UnitsOnOrder                           0\n",
       "CustomerName            Dr Jims Trousers\n",
       "City                              London\n",
       "Country                               UK\n",
       "DivisionName                      Europe\n",
       "CategoryName            Women's Footwear\n",
       "Name: 0, dtype: object"
      ]
     },
     "execution_count": 39,
     "metadata": {},
     "output_type": "execute_result"
    }
   ],
   "source": [
    "# first row \n",
    "df.loc[0, :]"
   ]
  },
  {
   "cell_type": "code",
   "execution_count": 40,
   "metadata": {
    "collapsed": true
   },
   "outputs": [],
   "source": [
    "cols_1 = ['Freight', 'Quantity', 'UnitPrice', 'Discount', \n",
    "          'ProductName', 'SupplierID', 'QuantityPerUnit',\n",
    "          'UnitCost', 'UnitsInStock', 'UnitsOnOrder']"
   ]
  },
  {
   "cell_type": "code",
   "execution_count": 41,
   "metadata": {},
   "outputs": [
    {
     "data": {
      "text/plain": [
       "{'CategoryName',\n",
       " 'City',\n",
       " 'Country',\n",
       " 'CustomerName',\n",
       " 'DivisionName',\n",
       " 'EmployeeID',\n",
       " 'LineNo',\n",
       " 'OrderDate',\n",
       " 'OrderID',\n",
       " 'ShipmentDate',\n",
       " 'ShipperID',\n",
       " 'ShipperIDorName'}"
      ]
     },
     "execution_count": 41,
     "metadata": {},
     "output_type": "execute_result"
    }
   ],
   "source": [
    "set(df.columns) - set(cols_1)"
   ]
  },
  {
   "cell_type": "code",
   "execution_count": 42,
   "metadata": {},
   "outputs": [
    {
     "data": {
      "text/html": [
       "<div>\n",
       "<style>\n",
       "    .dataframe thead tr:only-child th {\n",
       "        text-align: right;\n",
       "    }\n",
       "\n",
       "    .dataframe thead th {\n",
       "        text-align: left;\n",
       "    }\n",
       "\n",
       "    .dataframe tbody tr th {\n",
       "        vertical-align: top;\n",
       "    }\n",
       "</style>\n",
       "<table border=\"1\" class=\"dataframe\">\n",
       "  <thead>\n",
       "    <tr style=\"text-align: right;\">\n",
       "      <th></th>\n",
       "      <th>Freight</th>\n",
       "      <th>Quantity</th>\n",
       "      <th>UnitPrice</th>\n",
       "      <th>Discount</th>\n",
       "      <th>ProductName</th>\n",
       "      <th>SupplierID</th>\n",
       "      <th>QuantityPerUnit</th>\n",
       "      <th>UnitCost</th>\n",
       "      <th>UnitsInStock</th>\n",
       "      <th>UnitsOnOrder</th>\n",
       "    </tr>\n",
       "  </thead>\n",
       "  <tbody>\n",
       "    <tr>\n",
       "      <th>239</th>\n",
       "      <td>76.43</td>\n",
       "      <td>24</td>\n",
       "      <td>33.55</td>\n",
       "      <td>0.0</td>\n",
       "      <td>Bike Helmet</td>\n",
       "      <td>11</td>\n",
       "      <td>1</td>\n",
       "      <td>26.13</td>\n",
       "      <td>15</td>\n",
       "      <td>0</td>\n",
       "    </tr>\n",
       "    <tr>\n",
       "      <th>238</th>\n",
       "      <td>76.43</td>\n",
       "      <td>28</td>\n",
       "      <td>3.90</td>\n",
       "      <td>0.0</td>\n",
       "      <td>Mehmet-Skor</td>\n",
       "      <td>17</td>\n",
       "      <td>21</td>\n",
       "      <td>3.43</td>\n",
       "      <td>11</td>\n",
       "      <td>50</td>\n",
       "    </tr>\n",
       "    <tr>\n",
       "      <th>237</th>\n",
       "      <td>76.43</td>\n",
       "      <td>20</td>\n",
       "      <td>7.99</td>\n",
       "      <td>0.0</td>\n",
       "      <td>Mehmet-Tröja</td>\n",
       "      <td>17</td>\n",
       "      <td>20</td>\n",
       "      <td>6.45</td>\n",
       "      <td>112</td>\n",
       "      <td>0</td>\n",
       "    </tr>\n",
       "    <tr>\n",
       "      <th>236</th>\n",
       "      <td>76.43</td>\n",
       "      <td>25</td>\n",
       "      <td>12.03</td>\n",
       "      <td>0.0</td>\n",
       "      <td>Oyaki Kimono</td>\n",
       "      <td>14</td>\n",
       "      <td>30</td>\n",
       "      <td>8.96</td>\n",
       "      <td>14</td>\n",
       "      <td>0</td>\n",
       "    </tr>\n",
       "    <tr>\n",
       "      <th>240</th>\n",
       "      <td>76.43</td>\n",
       "      <td>40</td>\n",
       "      <td>9.00</td>\n",
       "      <td>0.0</td>\n",
       "      <td>DSW Sandals</td>\n",
       "      <td>9</td>\n",
       "      <td>100</td>\n",
       "      <td>7.43</td>\n",
       "      <td>61</td>\n",
       "      <td>0</td>\n",
       "    </tr>\n",
       "  </tbody>\n",
       "</table>\n",
       "</div>"
      ],
      "text/plain": [
       "     Freight  Quantity  UnitPrice  Discount   ProductName  SupplierID  \\\n",
       "239    76.43        24      33.55       0.0   Bike Helmet          11   \n",
       "238    76.43        28       3.90       0.0   Mehmet-Skor          17   \n",
       "237    76.43        20       7.99       0.0  Mehmet-Tröja          17   \n",
       "236    76.43        25      12.03       0.0  Oyaki Kimono          14   \n",
       "240    76.43        40       9.00       0.0   DSW Sandals           9   \n",
       "\n",
       "     QuantityPerUnit  UnitCost  UnitsInStock  UnitsOnOrder  \n",
       "239                1     26.13            15             0  \n",
       "238               21      3.43            11            50  \n",
       "237               20      6.45           112             0  \n",
       "236               30      8.96            14             0  \n",
       "240              100      7.43            61             0  "
      ]
     },
     "execution_count": 42,
     "metadata": {},
     "output_type": "execute_result"
    }
   ],
   "source": [
    "# most interesting columns\n",
    "df[cols_1].head()"
   ]
  },
  {
   "cell_type": "code",
   "execution_count": 43,
   "metadata": {},
   "outputs": [
    {
     "data": {
      "text/html": [
       "<div>\n",
       "<style>\n",
       "    .dataframe thead tr:only-child th {\n",
       "        text-align: right;\n",
       "    }\n",
       "\n",
       "    .dataframe thead th {\n",
       "        text-align: left;\n",
       "    }\n",
       "\n",
       "    .dataframe tbody tr th {\n",
       "        vertical-align: top;\n",
       "    }\n",
       "</style>\n",
       "<table border=\"1\" class=\"dataframe\">\n",
       "  <thead>\n",
       "    <tr style=\"text-align: right;\">\n",
       "      <th></th>\n",
       "      <th>Freight</th>\n",
       "      <th>Quantity</th>\n",
       "      <th>UnitPrice</th>\n",
       "      <th>Discount</th>\n",
       "      <th>SupplierID</th>\n",
       "      <th>QuantityPerUnit</th>\n",
       "      <th>UnitCost</th>\n",
       "      <th>UnitsInStock</th>\n",
       "      <th>UnitsOnOrder</th>\n",
       "    </tr>\n",
       "  </thead>\n",
       "  <tbody>\n",
       "    <tr>\n",
       "      <th>count</th>\n",
       "      <td>17032.000000</td>\n",
       "      <td>17032.000000</td>\n",
       "      <td>17032.000000</td>\n",
       "      <td>17032.000000</td>\n",
       "      <td>17032.000000</td>\n",
       "      <td>17032.000000</td>\n",
       "      <td>17032.000000</td>\n",
       "      <td>17032.000000</td>\n",
       "      <td>17032.000000</td>\n",
       "    </tr>\n",
       "    <tr>\n",
       "      <th>mean</th>\n",
       "      <td>50.353610</td>\n",
       "      <td>24.936414</td>\n",
       "      <td>33.691178</td>\n",
       "      <td>0.055743</td>\n",
       "      <td>14.489373</td>\n",
       "      <td>23.679427</td>\n",
       "      <td>26.448995</td>\n",
       "      <td>39.760979</td>\n",
       "      <td>8.120597</td>\n",
       "    </tr>\n",
       "    <tr>\n",
       "      <th>std</th>\n",
       "      <td>17.580939</td>\n",
       "      <td>20.186763</td>\n",
       "      <td>57.047959</td>\n",
       "      <td>0.083121</td>\n",
       "      <td>8.220952</td>\n",
       "      <td>28.540486</td>\n",
       "      <td>42.372797</td>\n",
       "      <td>36.060250</td>\n",
       "      <td>19.790074</td>\n",
       "    </tr>\n",
       "    <tr>\n",
       "      <th>min</th>\n",
       "      <td>11.422512</td>\n",
       "      <td>1.000000</td>\n",
       "      <td>0.865024</td>\n",
       "      <td>0.000000</td>\n",
       "      <td>1.000000</td>\n",
       "      <td>1.000000</td>\n",
       "      <td>0.890000</td>\n",
       "      <td>0.000000</td>\n",
       "      <td>0.000000</td>\n",
       "    </tr>\n",
       "    <tr>\n",
       "      <th>25%</th>\n",
       "      <td>34.794019</td>\n",
       "      <td>11.000000</td>\n",
       "      <td>9.641237</td>\n",
       "      <td>0.000000</td>\n",
       "      <td>7.000000</td>\n",
       "      <td>1.000000</td>\n",
       "      <td>7.400000</td>\n",
       "      <td>17.000000</td>\n",
       "      <td>0.000000</td>\n",
       "    </tr>\n",
       "    <tr>\n",
       "      <th>50%</th>\n",
       "      <td>50.043621</td>\n",
       "      <td>20.000000</td>\n",
       "      <td>20.710736</td>\n",
       "      <td>0.000000</td>\n",
       "      <td>14.000000</td>\n",
       "      <td>15.000000</td>\n",
       "      <td>16.170000</td>\n",
       "      <td>25.000000</td>\n",
       "      <td>0.000000</td>\n",
       "    </tr>\n",
       "    <tr>\n",
       "      <th>75%</th>\n",
       "      <td>65.865146</td>\n",
       "      <td>33.000000</td>\n",
       "      <td>33.737649</td>\n",
       "      <td>0.100000</td>\n",
       "      <td>21.000000</td>\n",
       "      <td>26.000000</td>\n",
       "      <td>26.490000</td>\n",
       "      <td>57.000000</td>\n",
       "      <td>0.000000</td>\n",
       "    </tr>\n",
       "    <tr>\n",
       "      <th>max</th>\n",
       "      <td>87.265707</td>\n",
       "      <td>168.000000</td>\n",
       "      <td>538.093967</td>\n",
       "      <td>0.250000</td>\n",
       "      <td>29.000000</td>\n",
       "      <td>105.000000</td>\n",
       "      <td>304.700000</td>\n",
       "      <td>125.000000</td>\n",
       "      <td>100.000000</td>\n",
       "    </tr>\n",
       "  </tbody>\n",
       "</table>\n",
       "</div>"
      ],
      "text/plain": [
       "            Freight      Quantity     UnitPrice      Discount    SupplierID  \\\n",
       "count  17032.000000  17032.000000  17032.000000  17032.000000  17032.000000   \n",
       "mean      50.353610     24.936414     33.691178      0.055743     14.489373   \n",
       "std       17.580939     20.186763     57.047959      0.083121      8.220952   \n",
       "min       11.422512      1.000000      0.865024      0.000000      1.000000   \n",
       "25%       34.794019     11.000000      9.641237      0.000000      7.000000   \n",
       "50%       50.043621     20.000000     20.710736      0.000000     14.000000   \n",
       "75%       65.865146     33.000000     33.737649      0.100000     21.000000   \n",
       "max       87.265707    168.000000    538.093967      0.250000     29.000000   \n",
       "\n",
       "       QuantityPerUnit      UnitCost  UnitsInStock  UnitsOnOrder  \n",
       "count     17032.000000  17032.000000  17032.000000  17032.000000  \n",
       "mean         23.679427     26.448995     39.760979      8.120597  \n",
       "std          28.540486     42.372797     36.060250     19.790074  \n",
       "min           1.000000      0.890000      0.000000      0.000000  \n",
       "25%           1.000000      7.400000     17.000000      0.000000  \n",
       "50%          15.000000     16.170000     25.000000      0.000000  \n",
       "75%          26.000000     26.490000     57.000000      0.000000  \n",
       "max         105.000000    304.700000    125.000000    100.000000  "
      ]
     },
     "execution_count": 43,
     "metadata": {},
     "output_type": "execute_result"
    }
   ],
   "source": [
    "df[cols_1].describe()"
   ]
  },
  {
   "cell_type": "code",
   "execution_count": 44,
   "metadata": {
    "collapsed": true
   },
   "outputs": [],
   "source": [
    "# Assert every ProductName has the same QuantityPerUnit\n",
    "assert df.groupby('ProductName')['QuantityPerUnit'].std().sum() == 0\n",
    "# for example: all Desperado Jeans have 25"
   ]
  },
  {
   "cell_type": "code",
   "execution_count": 45,
   "metadata": {
    "collapsed": true
   },
   "outputs": [],
   "source": [
    "# Asssert some people order different quantities of a certain product\n",
    "assert df.groupby('ProductName')['Quantity'].std().sum() != 0"
   ]
  },
  {
   "cell_type": "markdown",
   "metadata": {},
   "source": [
    "## Revenue and profit"
   ]
  },
  {
   "cell_type": "markdown",
   "metadata": {},
   "source": [
    "We have three columns that can help us calculate how much revenue the firm has: 'Quantity', 'QuantityPerUnit' and 'UnitPrice'. Quantity is how many Units you buy. Each unit has a price & quantity associated with it. For example, someone might buy a quantity of 6 boxes, where each box costs him $10 and contains 3 units. The income to the company for each line in the dataframe, then, we can call \"price per order\".\n",
    "\n",
    "`Price/Order = (Quantity/Order) * (Unit/Quantity) * (Price/Unit) * (1-Discount).`\n",
    "\n",
    "From looking at the numerator and denominator we see that Quantity & Unit cancel out on the right hand side, thus the equation holds.\n",
    "\n",
    "Creating the new variable 'PricePerOrder' we can use the columns in our dataframe to express the equation above equivalently as:\n",
    "\n",
    "`'PricePerOrder' = 'Quantity' / 'QuantityPerUnit' * 'UnitPrice' * (1-'Discount').`\n",
    "\n",
    "As a side note, the name price per order is somewhat misleading: it is the price per row. A better suting name for 'PricePerOrder' might be 'PricePerLine'. This fact can be understood from looking at 'Freight', which is the same for all rows with the same OrderID."
   ]
  },
  {
   "cell_type": "markdown",
   "metadata": {},
   "source": [
    "Due to lacking variable description, we must unfortunately guess here.We are unsure but believe this is the correct variable interpretation."
   ]
  },
  {
   "cell_type": "markdown",
   "metadata": {},
   "source": [
    "Freight may be a price tag, or it may be a weight. If it is a price tag, we can probably assume it does not generate any large revenue to the firm, we can assume it goes to the company delivering the goods, and therefore we do not inclode freight in the revenue."
   ]
  },
  {
   "cell_type": "code",
   "execution_count": 46,
   "metadata": {
    "collapsed": true
   },
   "outputs": [],
   "source": [
    "df['PricePerOrder'] = df.Quantity / df.QuantityPerUnit * df.UnitPrice * (1-df.Discount)"
   ]
  },
  {
   "cell_type": "markdown",
   "metadata": {},
   "source": [
    "If the logic above holds, then we can compute the profit as below."
   ]
  },
  {
   "cell_type": "code",
   "execution_count": 47,
   "metadata": {
    "collapsed": true
   },
   "outputs": [],
   "source": [
    "df['UnitProfit'] = df.UnitPrice *(1-df.Discount) - df.UnitCost"
   ]
  },
  {
   "cell_type": "code",
   "execution_count": 48,
   "metadata": {
    "collapsed": true
   },
   "outputs": [],
   "source": [
    "df['ProfitPerOrder'] = df.Quantity / df.QuantityPerUnit * df.UnitProfit"
   ]
  },
  {
   "cell_type": "code",
   "execution_count": 49,
   "metadata": {},
   "outputs": [
    {
     "data": {
      "text/html": [
       "<div>\n",
       "<style>\n",
       "    .dataframe thead tr:only-child th {\n",
       "        text-align: right;\n",
       "    }\n",
       "\n",
       "    .dataframe thead th {\n",
       "        text-align: left;\n",
       "    }\n",
       "\n",
       "    .dataframe tbody tr th {\n",
       "        vertical-align: top;\n",
       "    }\n",
       "</style>\n",
       "<table border=\"1\" class=\"dataframe\">\n",
       "  <thead>\n",
       "    <tr style=\"text-align: right;\">\n",
       "      <th></th>\n",
       "      <th>PricePerOrder</th>\n",
       "      <th>ProfitPerOrder</th>\n",
       "    </tr>\n",
       "  </thead>\n",
       "  <tbody>\n",
       "    <tr>\n",
       "      <th>count</th>\n",
       "      <td>17032.000000</td>\n",
       "      <td>17032.000000</td>\n",
       "    </tr>\n",
       "    <tr>\n",
       "      <th>mean</th>\n",
       "      <td>291.977762</td>\n",
       "      <td>51.138408</td>\n",
       "    </tr>\n",
       "    <tr>\n",
       "      <th>std</th>\n",
       "      <td>1009.416933</td>\n",
       "      <td>243.072330</td>\n",
       "    </tr>\n",
       "    <tr>\n",
       "      <th>min</th>\n",
       "      <td>0.019864</td>\n",
       "      <td>-1466.059522</td>\n",
       "    </tr>\n",
       "    <tr>\n",
       "      <th>25%</th>\n",
       "      <td>8.123707</td>\n",
       "      <td>0.256620</td>\n",
       "    </tr>\n",
       "    <tr>\n",
       "      <th>50%</th>\n",
       "      <td>31.504548</td>\n",
       "      <td>2.875007</td>\n",
       "    </tr>\n",
       "    <tr>\n",
       "      <th>75%</th>\n",
       "      <td>176.404409</td>\n",
       "      <td>19.184336</td>\n",
       "    </tr>\n",
       "    <tr>\n",
       "      <th>max</th>\n",
       "      <td>22550.578514</td>\n",
       "      <td>8229.678514</td>\n",
       "    </tr>\n",
       "  </tbody>\n",
       "</table>\n",
       "</div>"
      ],
      "text/plain": [
       "       PricePerOrder  ProfitPerOrder\n",
       "count   17032.000000    17032.000000\n",
       "mean      291.977762       51.138408\n",
       "std      1009.416933      243.072330\n",
       "min         0.019864    -1466.059522\n",
       "25%         8.123707        0.256620\n",
       "50%        31.504548        2.875007\n",
       "75%       176.404409       19.184336\n",
       "max     22550.578514     8229.678514"
      ]
     },
     "execution_count": 49,
     "metadata": {},
     "output_type": "execute_result"
    }
   ],
   "source": [
    "df[['PricePerOrder', 'ProfitPerOrder']].describe()"
   ]
  },
  {
   "cell_type": "markdown",
   "metadata": {},
   "source": [
    "The first and third quartile, for revenue and profit, is [8, 176] and [0.25, 19] respectively. This tells us something about the products of the firm and should be compared to its competitors."
   ]
  },
  {
   "cell_type": "markdown",
   "metadata": {
    "collapsed": true
   },
   "source": [
    "## Dashboard\n",
    "\n",
    "Below the exploratory data analysis begin. This is where we answer some basic business questions."
   ]
  },
  {
   "cell_type": "markdown",
   "metadata": {},
   "source": [
    "### Aggregate information"
   ]
  },
  {
   "cell_type": "code",
   "execution_count": 50,
   "metadata": {},
   "outputs": [
    {
     "name": "stdout",
     "output_type": "stream",
     "text": [
      "Total profit:  870989.0\n",
      "Total revenue:  4972965.0\n",
      "Profit margin:  18.0 %\n"
     ]
    }
   ],
   "source": [
    "profit = np.round(df.ProfitPerOrder.sum())\n",
    "revenue = np.round(df.PricePerOrder.sum())\n",
    "profitmargin = np.round(profit / revenue * 100)\n",
    "print(\"Total profit: \", profit)\n",
    "print(\"Total revenue: \", revenue)\n",
    "print(\"Profit margin: \", profitmargin, \"%\")"
   ]
  },
  {
   "cell_type": "code",
   "execution_count": 51,
   "metadata": {},
   "outputs": [
    {
     "name": "stdout",
     "output_type": "stream",
     "text": [
      "Mean revenue per order: 756.8049369074189\n",
      "Median revenue per order: 199.32620078962637\n"
     ]
    }
   ],
   "source": [
    "# per order\n",
    "revenue_by_orderid = df.groupby('OrderID').PricePerOrder.sum()\n",
    "print(\"Mean revenue per order:\", revenue_by_orderid.mean()) \n",
    "print(\"Median revenue per order:\", revenue_by_orderid.median()) "
   ]
  },
  {
   "cell_type": "code",
   "execution_count": 52,
   "metadata": {},
   "outputs": [
    {
     "name": "stdout",
     "output_type": "stream",
     "text": [
      "The order size is usually 2-3 products.\n"
     ]
    },
    {
     "data": {
      "text/plain": [
       "count    6571.000000\n",
       "mean        2.591995\n",
       "std         1.270502\n",
       "min         1.000000\n",
       "25%         2.000000\n",
       "50%         2.000000\n",
       "75%         3.000000\n",
       "max        25.000000\n",
       "dtype: float64"
      ]
     },
     "execution_count": 52,
     "metadata": {},
     "output_type": "execute_result"
    }
   ],
   "source": [
    "print(\"The order size is usually 2-3 products.\")\n",
    "df.groupby('OrderID').size().describe()"
   ]
  },
  {
   "cell_type": "code",
   "execution_count": 53,
   "metadata": {},
   "outputs": [
    {
     "name": "stdout",
     "output_type": "stream",
     "text": [
      "Nr of suppliers:  29\n"
     ]
    }
   ],
   "source": [
    "print(\"Nr of suppliers: \", df.SupplierID.nunique())"
   ]
  },
  {
   "cell_type": "code",
   "execution_count": 54,
   "metadata": {},
   "outputs": [
    {
     "name": "stdout",
     "output_type": "stream",
     "text": [
      "Nr of customers: 90\n"
     ]
    }
   ],
   "source": [
    "print(\"Nr of customers:\", df.CustomerName.nunique())"
   ]
  },
  {
   "cell_type": "code",
   "execution_count": 55,
   "metadata": {},
   "outputs": [
    {
     "name": "stdout",
     "output_type": "stream",
     "text": [
      "Average discount:  14.4 %\n"
     ]
    }
   ],
   "source": [
    "print(\"Average discount: \", np.round(df.loc[df.Discount > 0, 'Discount'].mean(), 3)*100, \"%\")"
   ]
  },
  {
   "cell_type": "markdown",
   "metadata": {},
   "source": [
    "### Trends over time"
   ]
  },
  {
   "cell_type": "code",
   "execution_count": 56,
   "metadata": {},
   "outputs": [
    {
     "data": {
      "text/plain": [
       "count    17032.000000\n",
       "mean      2013.883337\n",
       "std          1.056259\n",
       "min       2011.000000\n",
       "25%       2013.000000\n",
       "50%       2014.000000\n",
       "75%       2015.000000\n",
       "max       2016.000000\n",
       "Name: year, dtype: float64"
      ]
     },
     "execution_count": 56,
     "metadata": {},
     "output_type": "execute_result"
    }
   ],
   "source": [
    "df['year'] = df.OrderDate.dt.year\n",
    "df['month'] = df.OrderDate.dt.month\n",
    "df['yearmonth'] = df.OrderDate.dt.to_period('M')\n",
    "df.year.describe()"
   ]
  },
  {
   "cell_type": "code",
   "execution_count": 57,
   "metadata": {},
   "outputs": [
    {
     "data": {
      "image/png": "[encoded data removed]",
      "text/plain": [
       "<matplotlib.figure.Figure at 0x7f1530c68470>"
      ]
     },
     "metadata": {},
     "output_type": "display_data"
    }
   ],
   "source": [
    "df.groupby('month').PricePerOrder.sum().plot.bar()\n",
    "plt.title('No seasonality')\n",
    "plt.ylabel('Revenue')\n",
    "plt.show()"
   ]
  },
  {
   "cell_type": "markdown",
   "metadata": {},
   "source": [
    "Conclusion: There is no seasonality the revenue. Not in the profit either."
   ]
  },
  {
   "cell_type": "code",
   "execution_count": 58,
   "metadata": {
    "collapsed": true
   },
   "outputs": [],
   "source": [
    "# group by year, but exclude 2011 and 2016 as these are not whole years\n",
    "df_by_wholeyears = df.loc[df.year.isin([2012, 2013, 2014, 2015])].groupby('year')"
   ]
  },
  {
   "cell_type": "code",
   "execution_count": 59,
   "metadata": {},
   "outputs": [
    {
     "data": {
      "image/png": "[encoded data removed]",
      "text/plain": [
       "<matplotlib.figure.Figure at 0x7f1530c15940>"
      ]
     },
     "metadata": {},
     "output_type": "display_data"
    }
   ],
   "source": [
    "df_by_wholeyears.ProfitPerOrder.sum().plot.bar()\n",
    "plt.title('Profit by year')\n",
    "plt.ylabel('Profit')\n",
    "plt.show()\n",
    "# Note the entire 2011 or 2016 is not here, so it only makes sense to see 2012:2015"
   ]
  },
  {
   "cell_type": "markdown",
   "metadata": {},
   "source": [
    "Profits rose during the first years, why did it decline in 2015?"
   ]
  },
  {
   "cell_type": "code",
   "execution_count": 60,
   "metadata": {},
   "outputs": [
    {
     "data": {
      "image/png": "[encoded data removed]",
      "text/plain": [
       "<matplotlib.figure.Figure at 0x7f15309d4f98>"
      ]
     },
     "metadata": {},
     "output_type": "display_data"
    }
   ],
   "source": [
    "df_by_wholeyears[['ProfitPerOrder', 'PricePerOrder']].sum().plot.bar()\n",
    "plt.title('Profit & Revenues')\n",
    "plt.ylabel('USD')\n",
    "plt.show()\n",
    "# Note the entire 2011 or 2016 is not here, so it only makes sense to see 2012:2015"
   ]
  },
  {
   "cell_type": "markdown",
   "metadata": {},
   "source": [
    "Maybe the decline in profits are due to the decline in revenue."
   ]
  },
  {
   "cell_type": "markdown",
   "metadata": {},
   "source": [
    "### Popular products\n"
   ]
  },
  {
   "cell_type": "code",
   "execution_count": 61,
   "metadata": {},
   "outputs": [
    {
     "data": {
      "text/plain": [
       "8"
      ]
     },
     "execution_count": 61,
     "metadata": {},
     "output_type": "execute_result"
    }
   ],
   "source": [
    "df.CategoryName.nunique()"
   ]
  },
  {
   "cell_type": "code",
   "execution_count": 62,
   "metadata": {},
   "outputs": [
    {
     "data": {
      "text/plain": [
       "77"
      ]
     },
     "execution_count": 62,
     "metadata": {},
     "output_type": "execute_result"
    }
   ],
   "source": [
    "df.ProductName.nunique()"
   ]
  },
  {
   "cell_type": "code",
   "execution_count": 63,
   "metadata": {},
   "outputs": [
    {
     "data": {
      "image/png": "[encoded data removed]",
      "text/plain": [
       "<matplotlib.figure.Figure at 0x7f15308c8f28>"
      ]
     },
     "metadata": {},
     "output_type": "display_data"
    }
   ],
   "source": [
    "df.groupby('CategoryName').size().sort_values().plot.barh(color='g')\n",
    "plt.title('Most popular categories')\n",
    "plt.xlabel('Nr of orders containing the category')\n",
    "plt.show()"
   ]
  },
  {
   "cell_type": "markdown",
   "metadata": {},
   "source": [
    "Note that the graph above does not take `Quantity` into account. "
   ]
  },
  {
   "cell_type": "code",
   "execution_count": 64,
   "metadata": {},
   "outputs": [
    {
     "data": {
      "image/png": "[encoded data removed]",
      "text/plain": [
       "<matplotlib.figure.Figure at 0x7f15307baa20>"
      ]
     },
     "metadata": {},
     "output_type": "display_data"
    }
   ],
   "source": [
    "df.groupby('ProductName').size().sort_values().tail(10).plot.barh(color='g')\n",
    "plt.title('Frequently ordered products')\n",
    "plt.xlabel('Nr of orders containing the product')\n",
    "plt.show()"
   ]
  },
  {
   "cell_type": "markdown",
   "metadata": {},
   "source": [
    "The graphs above does not take into account the fact that some products are sold in larger quantities, i.e. it only counts the occurence. "
   ]
  },
  {
   "cell_type": "code",
   "execution_count": 65,
   "metadata": {},
   "outputs": [
    {
     "data": {
      "image/png": "[encoded data removed]",
      "text/plain": [
       "<matplotlib.figure.Figure at 0x7f15304c25c0>"
      ]
     },
     "metadata": {},
     "output_type": "display_data"
    }
   ],
   "source": [
    "product_Q = df.groupby('ProductName')['Quantity'].sum().sort_values()\n",
    "product_Q.tail(10).plot.barh(color='g')\n",
    "plt.title('Popular products')\n",
    "plt.xlabel('Total ordered quantity')\n",
    "plt.show()"
   ]
  },
  {
   "cell_type": "code",
   "execution_count": 66,
   "metadata": {},
   "outputs": [
    {
     "name": "stdout",
     "output_type": "stream",
     "text": [
      "Out of 77 total products, the 10 most popular products stand for 24.0 % of total ordered quantity.\n"
     ]
    }
   ],
   "source": [
    "Q_total = df.Quantity.sum()\n",
    "p = 10\n",
    "print(\"Out of 77 total products, the\", p, \n",
    "     \"most popular products stand for\", \n",
    "     np.round(product_Q.tail(p).sum() / Q_total*100),\n",
    "     \"% of total ordered quantity.\")"
   ]
  },
  {
   "cell_type": "markdown",
   "metadata": {},
   "source": [
    "## Profitable products"
   ]
  },
  {
   "cell_type": "code",
   "execution_count": 67,
   "metadata": {},
   "outputs": [
    {
     "data": {
      "image/png": "[encoded data removed]",
      "text/plain": [
       "<matplotlib.figure.Figure at 0x7f1530550630>"
      ]
     },
     "metadata": {},
     "output_type": "display_data"
    }
   ],
   "source": [
    "profits_bycategory = df.groupby('CategoryName')['ProfitPerOrder'].sum().sort_values() / profit*100\n",
    "profits_bycategory.plot.barh()\n",
    "plt.title('Profitable categories')\n",
    "plt.xlabel('Percentage of total profit')\n",
    "plt.show()"
   ]
  },
  {
   "cell_type": "markdown",
   "metadata": {},
   "source": [
    "Women's clothes is the most profiable. Should we stop selling the other categories? \n",
    "It turns out, diving one level of specificity deeper (namely into `ProductName`) yields more insights, due to the fact that only a few products contribute to the bottom line."
   ]
  },
  {
   "cell_type": "code",
   "execution_count": 68,
   "metadata": {},
   "outputs": [
    {
     "name": "stdout",
     "output_type": "stream",
     "text": [
      "The single most profitable product stands for  36.0 % of the total profits\n"
     ]
    }
   ],
   "source": [
    "print(\"The single most profitable product stands for \", \n",
    "      np.round(df.groupby('ProductName')['ProfitPerOrder'].sum().max() / profit*100),\n",
    "      \"% of the total profits\")"
   ]
  },
  {
   "cell_type": "code",
   "execution_count": 69,
   "metadata": {},
   "outputs": [
    {
     "name": "stdout",
     "output_type": "stream",
     "text": [
      "Five most profitable products and their % contributed profit:\n"
     ]
    },
    {
     "data": {
      "text/plain": [
       "ProductName\n",
       "Halter Dress       36.068853\n",
       "Davenport Shoes    14.593056\n",
       "Tennis Suit         5.378772\n",
       "RDL Suit            5.263586\n",
       "WFS Shoes           3.333439\n",
       "Name: ProfitPerOrder, dtype: float64"
      ]
     },
     "execution_count": 69,
     "metadata": {},
     "output_type": "execute_result"
    }
   ],
   "source": [
    "profit_byproduct = df.groupby('ProductName')['ProfitPerOrder'].sum()\n",
    "profit_byproduct = profit_byproduct.sort_values(ascending=False)\n",
    "print(\"Five most profitable products and their % contributed profit:\")\n",
    "profit_byproduct.head() / profit*100"
   ]
  },
  {
   "cell_type": "code",
   "execution_count": 70,
   "metadata": {},
   "outputs": [
    {
     "data": {
      "text/plain": [
       "['Halter Dress', 'Davenport Shoes']"
      ]
     },
     "execution_count": 70,
     "metadata": {},
     "output_type": "execute_result"
    }
   ],
   "source": [
    "top2products = profit_byproduct.head(2).index.tolist()\n",
    "top2products"
   ]
  },
  {
   "cell_type": "markdown",
   "metadata": {},
   "source": [
    "## Deep dive into the top 2 products\n",
    "\n",
    "Since the top 2 products stand for over half the profits, it is reasonable to analyze these two further and create some insights by asking questions such as:\n",
    "\n",
    "* Who are the shippers? \n",
    "\n",
    "* Have we had discounts on these, if so did it correlate with higher sales? \n",
    "\n",
    "* When during the year are these products ordered the most? maybe we can increase the advertising during this period to make our cash cows even better!\n",
    "\n",
    "* Are they ever out of stock? They should not be. If they are out of stock, during what periods are they? The column `UnitsInStock` will be useful.\n",
    "\n",
    "* Can we increase cross selling and what are the top2 product frequently bought _together with_? "
   ]
  },
  {
   "cell_type": "code",
   "execution_count": 71,
   "metadata": {},
   "outputs": [
    {
     "data": {
      "text/plain": [
       "['Halter Dress', 'Davenport Shoes']"
      ]
     },
     "execution_count": 71,
     "metadata": {},
     "output_type": "execute_result"
    }
   ],
   "source": [
    "top2products"
   ]
  },
  {
   "cell_type": "code",
   "execution_count": 72,
   "metadata": {
    "collapsed": true
   },
   "outputs": [],
   "source": [
    "# select cols \n",
    "cols_4 = ['OrderID', 'ProductName', \n",
    "          'PricePerOrder', 'ProfitPerOrder', 'Quantity', 'Discount',\n",
    "          'OrderDate', 'year', 'month', 'yearmonth']\n",
    "\n",
    "# fiter out rows for the top2 products\n",
    "df2 = df.loc[df.ProductName.isin(top2products), cols_4]"
   ]
  },
  {
   "cell_type": "code",
   "execution_count": 73,
   "metadata": {
    "collapsed": true
   },
   "outputs": [],
   "source": [
    "# set date as index\n",
    "# df2 = df2.set_index('OrderDate')"
   ]
  },
  {
   "cell_type": "code",
   "execution_count": 74,
   "metadata": {
    "collapsed": true
   },
   "outputs": [],
   "source": [
    "df2 = df2.sort_values('yearmonth')"
   ]
  },
  {
   "cell_type": "markdown",
   "metadata": {},
   "source": [
    "### Discount on top 2 products"
   ]
  },
  {
   "cell_type": "code",
   "execution_count": 75,
   "metadata": {},
   "outputs": [
    {
     "name": "stdout",
     "output_type": "stream",
     "text": [
      "Fraction of sales with a discount:  0.359205776173\n"
     ]
    }
   ],
   "source": [
    "print(\"Fraction of sales with a discount: \", (df2.Discount > 0).mean())"
   ]
  },
  {
   "cell_type": "code",
   "execution_count": 76,
   "metadata": {
    "collapsed": true
   },
   "outputs": [],
   "source": [
    "df2['discount_existed'] = df2.Discount > 0"
   ]
  },
  {
   "cell_type": "code",
   "execution_count": 77,
   "metadata": {},
   "outputs": [
    {
     "name": "stdout",
     "output_type": "stream",
     "text": [
      "The quantity is higher with a discount present\n"
     ]
    },
    {
     "data": {
      "text/plain": [
       "discount_existed\n",
       "False    23.664789\n",
       "True     28.492462\n",
       "Name: Quantity, dtype: float64"
      ]
     },
     "execution_count": 77,
     "metadata": {},
     "output_type": "execute_result"
    }
   ],
   "source": [
    "print(\"The quantity is higher with a discount present\")\n",
    "df2.groupby('discount_existed').Quantity.mean()"
   ]
  },
  {
   "cell_type": "code",
   "execution_count": 78,
   "metadata": {},
   "outputs": [
    {
     "data": {
      "text/plain": [
       "Ttest_indResult(statistic=2.714323376493978, pvalue=0.0068488099927561949)"
      ]
     },
     "execution_count": 78,
     "metadata": {},
     "output_type": "execute_result"
    }
   ],
   "source": [
    "# t-test \n",
    "ttest_ind(df2.loc[df2['discount_existed']==True, 'Quantity'], \n",
    "         df2.loc[df2['discount_existed']==False, 'Quantity'])"
   ]
  },
  {
   "cell_type": "code",
   "execution_count": 79,
   "metadata": {},
   "outputs": [
    {
     "name": "stdout",
     "output_type": "stream",
     "text": [
      "The revenue is approx the same with/without a discount\n"
     ]
    },
    {
     "data": {
      "text/plain": [
       "discount_existed\n",
       "False    4139.540258\n",
       "True     4014.910534\n",
       "Name: PricePerOrder, dtype: float64"
      ]
     },
     "execution_count": 79,
     "metadata": {},
     "output_type": "execute_result"
    }
   ],
   "source": [
    "print(\"The revenue is approx the same with/without a discount\")\n",
    "df2.groupby('discount_existed').PricePerOrder.mean()"
   ]
  },
  {
   "cell_type": "code",
   "execution_count": 80,
   "metadata": {},
   "outputs": [
    {
     "data": {
      "text/plain": [
       "Ttest_indResult(statistic=-0.40207959795998871, pvalue=0.68778108552745554)"
      ]
     },
     "execution_count": 80,
     "metadata": {},
     "output_type": "execute_result"
    }
   ],
   "source": [
    "# t-test \n",
    "ttest_ind(df2.loc[df2['discount_existed']==True, 'PricePerOrder'], \n",
    "         df2.loc[df2['discount_existed']==False, 'PricePerOrder'])"
   ]
  },
  {
   "cell_type": "code",
   "execution_count": 81,
   "metadata": {},
   "outputs": [
    {
     "name": "stdout",
     "output_type": "stream",
     "text": [
      "The revenue is much lower when there is a dicount\n"
     ]
    },
    {
     "data": {
      "text/plain": [
       "discount_existed\n",
       "False    1036.934708\n",
       "True      367.577067\n",
       "Name: ProfitPerOrder, dtype: float64"
      ]
     },
     "execution_count": 81,
     "metadata": {},
     "output_type": "execute_result"
    }
   ],
   "source": [
    "print(\"The revenue is much lower when there is a dicount\")\n",
    "df2.groupby('discount_existed').ProfitPerOrder.mean()"
   ]
  },
  {
   "cell_type": "code",
   "execution_count": 82,
   "metadata": {},
   "outputs": [
    {
     "data": {
      "text/plain": [
       "Ttest_indResult(statistic=-7.8298036802945221, pvalue=2.5140664878556673e-14)"
      ]
     },
     "execution_count": 82,
     "metadata": {},
     "output_type": "execute_result"
    }
   ],
   "source": [
    "# t-test \n",
    "ttest_ind(df2.loc[df2['discount_existed']==True, 'ProfitPerOrder'], \n",
    "         df2.loc[df2['discount_existed']==False, 'ProfitPerOrder'])"
   ]
  },
  {
   "cell_type": "markdown",
   "metadata": {},
   "source": [
    "We can conclude that it is statistically significant that, for the top 2 products: \n",
    "* The quantity is higher when there is a discount. \n",
    "* The profit per order is lower when there is a discount. \n",
    "\n",
    "Based on these findings, a discussion of whether discounts should be reduced or eliminated migh be fruitful."
   ]
  },
  {
   "cell_type": "markdown",
   "metadata": {},
   "source": [
    "### Cross selling\n",
    "\n",
    "If the dress is often accompanyed by a belt, we should have a recommendation page when someone buys it. Or maybe offer a discount if (and only if) the buyer did not add that belt themselves to the cart. Machine learning can be used here, in particular [Association rule learning](https://en.wikipedia.org/wiki/Association_rule_learning), preferably the [a-priori algorithm](https://en.wikipedia.org/wiki/Apriori_algorithm) which is [implemented in R](https://cran.r-project.org/web/packages/arules/index.html). Since running `install.packages('arules')` returned an error and we would not download it, we had to take a simpler approach and answer the same question with a correlation matrix."
   ]
  },
  {
   "cell_type": "code",
   "execution_count": 83,
   "metadata": {},
   "outputs": [
    {
     "data": {
      "text/plain": [
       "(6571, 77)"
      ]
     },
     "execution_count": 83,
     "metadata": {},
     "output_type": "execute_result"
    }
   ],
   "source": [
    "# concatenate orderID with the matrix of product dummies\n",
    "products_mat = pd.get_dummies(df.ProductName)\n",
    "concatenation= pd.concat([df['OrderID'], products_mat], axis=1)\n",
    "assert concatenation.shape[0] == df.shape[0]\n",
    "\n",
    "# collapse all rows with the same OrderID and sum the cols\n",
    "df3 = concatenation.groupby('OrderID').sum()\n",
    "del concatenation\n",
    "df3.shape"
   ]
  },
  {
   "cell_type": "code",
   "execution_count": 84,
   "metadata": {},
   "outputs": [
    {
     "data": {
      "text/html": [
       "<div>\n",
       "<style>\n",
       "    .dataframe thead tr:only-child th {\n",
       "        text-align: right;\n",
       "    }\n",
       "\n",
       "    .dataframe thead th {\n",
       "        text-align: left;\n",
       "    }\n",
       "\n",
       "    .dataframe tbody tr th {\n",
       "        vertical-align: top;\n",
       "    }\n",
       "</style>\n",
       "<table border=\"1\" class=\"dataframe\">\n",
       "  <thead>\n",
       "    <tr style=\"text-align: right;\">\n",
       "      <th></th>\n",
       "      <th>AAA Running Shoe</th>\n",
       "      <th>Aino Shoes</th>\n",
       "      <th>Atles Lussekofta</th>\n",
       "      <th>Baby Dark Lounge Suit</th>\n",
       "      <th>Basket Shoes</th>\n",
       "      <th>Basket Vest</th>\n",
       "      <th>Baywatch Swimsuit</th>\n",
       "      <th>Bike Helmet</th>\n",
       "      <th>Bow tie</th>\n",
       "      <th>Cap</th>\n",
       "      <th>...</th>\n",
       "      <th>Tracksuit</th>\n",
       "      <th>Tube Socks</th>\n",
       "      <th>Tuxedo Top</th>\n",
       "      <th>US-Master Jeans</th>\n",
       "      <th>WFS Shoes</th>\n",
       "      <th>Walking Shoes</th>\n",
       "      <th>Wimbledon T-Shirt</th>\n",
       "      <th>Winter Boots</th>\n",
       "      <th>Wrap Skirt</th>\n",
       "      <th>X-Train Shoes</th>\n",
       "    </tr>\n",
       "    <tr>\n",
       "      <th>OrderID</th>\n",
       "      <th></th>\n",
       "      <th></th>\n",
       "      <th></th>\n",
       "      <th></th>\n",
       "      <th></th>\n",
       "      <th></th>\n",
       "      <th></th>\n",
       "      <th></th>\n",
       "      <th></th>\n",
       "      <th></th>\n",
       "      <th></th>\n",
       "      <th></th>\n",
       "      <th></th>\n",
       "      <th></th>\n",
       "      <th></th>\n",
       "      <th></th>\n",
       "      <th></th>\n",
       "      <th></th>\n",
       "      <th></th>\n",
       "      <th></th>\n",
       "      <th></th>\n",
       "    </tr>\n",
       "  </thead>\n",
       "  <tbody>\n",
       "    <tr>\n",
       "      <th>10248</th>\n",
       "      <td>0</td>\n",
       "      <td>0</td>\n",
       "      <td>0</td>\n",
       "      <td>0</td>\n",
       "      <td>0</td>\n",
       "      <td>0</td>\n",
       "      <td>0</td>\n",
       "      <td>0</td>\n",
       "      <td>0</td>\n",
       "      <td>0</td>\n",
       "      <td>...</td>\n",
       "      <td>0</td>\n",
       "      <td>0</td>\n",
       "      <td>0</td>\n",
       "      <td>0</td>\n",
       "      <td>0</td>\n",
       "      <td>1</td>\n",
       "      <td>0</td>\n",
       "      <td>0</td>\n",
       "      <td>0</td>\n",
       "      <td>0</td>\n",
       "    </tr>\n",
       "    <tr>\n",
       "      <th>10249</th>\n",
       "      <td>0</td>\n",
       "      <td>0</td>\n",
       "      <td>0</td>\n",
       "      <td>0</td>\n",
       "      <td>0</td>\n",
       "      <td>0</td>\n",
       "      <td>0</td>\n",
       "      <td>0</td>\n",
       "      <td>0</td>\n",
       "      <td>0</td>\n",
       "      <td>...</td>\n",
       "      <td>0</td>\n",
       "      <td>0</td>\n",
       "      <td>0</td>\n",
       "      <td>0</td>\n",
       "      <td>0</td>\n",
       "      <td>0</td>\n",
       "      <td>0</td>\n",
       "      <td>0</td>\n",
       "      <td>0</td>\n",
       "      <td>0</td>\n",
       "    </tr>\n",
       "    <tr>\n",
       "      <th>10250</th>\n",
       "      <td>0</td>\n",
       "      <td>0</td>\n",
       "      <td>0</td>\n",
       "      <td>0</td>\n",
       "      <td>0</td>\n",
       "      <td>0</td>\n",
       "      <td>0</td>\n",
       "      <td>0</td>\n",
       "      <td>0</td>\n",
       "      <td>0</td>\n",
       "      <td>...</td>\n",
       "      <td>0</td>\n",
       "      <td>0</td>\n",
       "      <td>0</td>\n",
       "      <td>0</td>\n",
       "      <td>0</td>\n",
       "      <td>0</td>\n",
       "      <td>0</td>\n",
       "      <td>0</td>\n",
       "      <td>0</td>\n",
       "      <td>0</td>\n",
       "    </tr>\n",
       "  </tbody>\n",
       "</table>\n",
       "<p>3 rows × 77 columns</p>\n",
       "</div>"
      ],
      "text/plain": [
       "         AAA Running Shoe  Aino Shoes  Atles Lussekofta  \\\n",
       "OrderID                                                   \n",
       "10248                   0           0                 0   \n",
       "10249                   0           0                 0   \n",
       "10250                   0           0                 0   \n",
       "\n",
       "         Baby Dark Lounge Suit  Basket Shoes  Basket Vest  Baywatch Swimsuit  \\\n",
       "OrderID                                                                        \n",
       "10248                        0             0            0                  0   \n",
       "10249                        0             0            0                  0   \n",
       "10250                        0             0            0                  0   \n",
       "\n",
       "         Bike Helmet  Bow tie  Cap      ...        Tracksuit  Tube Socks  \\\n",
       "OrderID                                 ...                                \n",
       "10248              0        0    0      ...                0           0   \n",
       "10249              0        0    0      ...                0           0   \n",
       "10250              0        0    0      ...                0           0   \n",
       "\n",
       "         Tuxedo Top  US-Master Jeans  WFS Shoes  Walking Shoes  \\\n",
       "OrderID                                                          \n",
       "10248             0                0          0              1   \n",
       "10249             0                0          0              0   \n",
       "10250             0                0          0              0   \n",
       "\n",
       "         Wimbledon T-Shirt  Winter Boots  Wrap Skirt  X-Train Shoes  \n",
       "OrderID                                                              \n",
       "10248                    0             0           0              0  \n",
       "10249                    0             0           0              0  \n",
       "10250                    0             0           0              0  \n",
       "\n",
       "[3 rows x 77 columns]"
      ]
     },
     "execution_count": 84,
     "metadata": {},
     "output_type": "execute_result"
    }
   ],
   "source": [
    "df3.head(3)"
   ]
  },
  {
   "cell_type": "markdown",
   "metadata": {},
   "source": [
    "Below we make sure the merge went well."
   ]
  },
  {
   "cell_type": "code",
   "execution_count": 85,
   "metadata": {},
   "outputs": [
    {
     "data": {
      "text/plain": [
       "0      Walking Shoes\n",
       "2    Desperado Jeans\n",
       "1       Oyaki Kimono\n",
       "Name: ProductName, dtype: object"
      ]
     },
     "execution_count": 85,
     "metadata": {},
     "output_type": "execute_result"
    }
   ],
   "source": [
    "df.loc[df.OrderID == 10248, 'ProductName']"
   ]
  },
  {
   "cell_type": "code",
   "execution_count": 86,
   "metadata": {},
   "outputs": [
    {
     "data": {
      "text/plain": [
       "['Walking Shoes', 'Desperado Jeans', 'Oyaki Kimono']"
      ]
     },
     "execution_count": 86,
     "metadata": {},
     "output_type": "execute_result"
    }
   ],
   "source": [
    "example_products = df.loc[df.OrderID == 10248, 'ProductName'].values.tolist()\n",
    "example_products"
   ]
  },
  {
   "cell_type": "code",
   "execution_count": 87,
   "metadata": {},
   "outputs": [
    {
     "data": {
      "text/plain": [
       "Walking Shoes      1\n",
       "Desperado Jeans    1\n",
       "Oyaki Kimono       1\n",
       "Name: 10248, dtype: uint8"
      ]
     },
     "execution_count": 87,
     "metadata": {},
     "output_type": "execute_result"
    }
   ],
   "source": [
    "df3.loc[10248, example_products]"
   ]
  },
  {
   "cell_type": "code",
   "execution_count": 88,
   "metadata": {
    "collapsed": true
   },
   "outputs": [],
   "source": [
    "assert set(df3.loc[10248, example_products].index) == set(example_products)"
   ]
  },
  {
   "cell_type": "markdown",
   "metadata": {},
   "source": [
    "Pearson’s correlation for binary variables is called ”Phi coefficient”. The strongest correlation tell us which products sell the best together."
   ]
  },
  {
   "cell_type": "code",
   "execution_count": 89,
   "metadata": {},
   "outputs": [
    {
     "data": {
      "image/png": "[encoded data removed]",
      "text/plain": [
       "<matplotlib.figure.Figure at 0x7f153069f518>"
      ]
     },
     "metadata": {},
     "output_type": "display_data"
    }
   ],
   "source": [
    "# Compute the correlation matrix\n",
    "corr = df3.corr()\n",
    "\n",
    "# Generate a mask for the upper triangle\n",
    "mask = np.zeros_like(corr, dtype=np.bool)\n",
    "mask[np.triu_indices_from(mask)] = True\n",
    "\n",
    "# Set up the matplotlib figure\n",
    "f, ax = plt.subplots(figsize=(11, 9))\n",
    "\n",
    "# Generate a custom diverging colormap\n",
    "cmap = sns.diverging_palette(220, 10, as_cmap=True)\n",
    "\n",
    "# Draw the heatmap with the mask and correct aspect ratio\n",
    "sns.heatmap(corr, mask=mask, cmap=cmap, vmax=.3, center=0,\n",
    "            square=True, linewidths=.5, cbar_kws={\"shrink\": .5})\n",
    "plt.show()"
   ]
  },
  {
   "cell_type": "code",
   "execution_count": 90,
   "metadata": {},
   "outputs": [
    {
     "data": {
      "text/plain": [
       "['Halter Dress', 'Davenport Shoes']"
      ]
     },
     "execution_count": 90,
     "metadata": {},
     "output_type": "execute_result"
    }
   ],
   "source": [
    "top2products"
   ]
  },
  {
   "cell_type": "code",
   "execution_count": 91,
   "metadata": {
    "collapsed": true
   },
   "outputs": [],
   "source": [
    "# slice out the rows for the most & next most porfitable product\n",
    "corr_1 = corr.loc[top2products[0]]\n",
    "corr_2 = corr.loc[top2products[1]]"
   ]
  },
  {
   "cell_type": "code",
   "execution_count": 92,
   "metadata": {},
   "outputs": [
    {
     "data": {
      "text/plain": [
       "Halter Dress     1.000000\n",
       "Tennis Suit      0.096614\n",
       "Rasta WCT        0.060719\n",
       "Duck Trousers    0.056683\n",
       "Root Boot        0.051990\n",
       "Name: Halter Dress, dtype: float64"
      ]
     },
     "execution_count": 92,
     "metadata": {},
     "output_type": "execute_result"
    }
   ],
   "source": [
    "# see products with corr > 0.05 \n",
    "corr_1[corr_1.values > 0.05].sort_values(ascending=False)"
   ]
  },
  {
   "cell_type": "code",
   "execution_count": 93,
   "metadata": {},
   "outputs": [
    {
     "data": {
      "text/plain": [
       "Davenport Shoes          1.000000\n",
       "O-Man Underwear          0.153481\n",
       "Finnish Sport Blades     0.084140\n",
       "Tuxedo Top               0.062549\n",
       "Fuji Boots               0.060652\n",
       "Baby Dark Lounge Suit    0.060521\n",
       "Name: Davenport Shoes, dtype: float64"
      ]
     },
     "execution_count": 93,
     "metadata": {},
     "output_type": "execute_result"
    }
   ],
   "source": [
    "corr_2[corr_2.values > 0.05].sort_values(ascending=False)"
   ]
  },
  {
   "cell_type": "markdown",
   "metadata": {},
   "source": [
    "Benchmark: Correlation below 0.30 are to be considered too weak."
   ]
  },
  {
   "cell_type": "code",
   "execution_count": 94,
   "metadata": {
    "collapsed": true
   },
   "outputs": [],
   "source": [
    "# put these products in a list\n",
    "products_cross1 = corr_1[corr_1.values > 0.05].sort_values(ascending=False).index\n",
    "products_cross2 = corr_2[corr_2.values > 0.05].sort_values(ascending=False).index"
   ]
  },
  {
   "cell_type": "code",
   "execution_count": 95,
   "metadata": {},
   "outputs": [
    {
     "data": {
      "text/plain": [
       "ProductName\n",
       "Halter Dress     36.068853\n",
       "Tennis Suit       5.378772\n",
       "Duck Trousers     1.976519\n",
       "Rasta WCT         0.020256\n",
       "Root Boot         0.005578\n",
       "Name: ProfitPerOrder, dtype: float64"
      ]
     },
     "execution_count": 95,
     "metadata": {},
     "output_type": "execute_result"
    }
   ],
   "source": [
    "# how profitable are these correlated products? \n",
    "profit_byproduct[profit_byproduct.index.isin(products_cross1)] / profit*100"
   ]
  },
  {
   "cell_type": "code",
   "execution_count": 96,
   "metadata": {},
   "outputs": [
    {
     "data": {
      "text/plain": [
       "ProductName\n",
       "Davenport Shoes          14.593056\n",
       "Finnish Sport Blades      2.333892\n",
       "Baby Dark Lounge Suit     0.999883\n",
       "Tuxedo Top                0.056172\n",
       "Fuji Boots                0.012269\n",
       "O-Man Underwear           0.003062\n",
       "Name: ProfitPerOrder, dtype: float64"
      ]
     },
     "execution_count": 96,
     "metadata": {},
     "output_type": "execute_result"
    }
   ],
   "source": [
    "profit_byproduct[profit_byproduct.index.isin(products_cross2)] / profit*100"
   ]
  },
  {
   "cell_type": "markdown",
   "metadata": {},
   "source": [
    "Conclusion: We looked at the top two profitable products, and saw that a few other products were correlated with these purchases. Of these correlated products, the most profitable are 'Tennis Suit', 'Duck Trousers' and 'Finnish Sport Blades'. If these correlation are strong enought, the company might be able to increase profits if they advertise the 'Tennis Suit' and the 'Duck Trousers' whenever someone buys a 'Halter Dress'. Likewise, whenever someone buy 'Davenport Shoes' it might be smart to market the 'Finnish Sport Blades'. Unfortunately, these correlation are too weak to be of actionable interest."
   ]
  },
  {
   "cell_type": "markdown",
   "metadata": {},
   "source": [
    "### Top 2 products over time"
   ]
  },
  {
   "cell_type": "code",
   "execution_count": 97,
   "metadata": {
    "collapsed": true
   },
   "outputs": [],
   "source": [
    "wholeyears = [2012, 2013, 2014, 2015]"
   ]
  },
  {
   "cell_type": "code",
   "execution_count": 98,
   "metadata": {},
   "outputs": [
    {
     "data": {
      "image/png": "[encoded data removed]",
      "text/plain": [
       "<matplotlib.figure.Figure at 0x7f15303074e0>"
      ]
     },
     "metadata": {},
     "output_type": "display_data"
    }
   ],
   "source": [
    "# profit seasonality for top2 products\n",
    "profit_by_month_top2 = df2.loc[df2.year.isin(wholeyears)].groupby('month').ProfitPerOrder.sum()\n",
    "profit_by_month_top2.plot.bar()\n",
    "plt.axhline(y=profit_by_month_top2.mean())\n",
    "plt.title('No seasonality for top 2 products \\n Horizontal line = mean')\n",
    "plt.ylabel('Profit')\n",
    "plt.show()"
   ]
  },
  {
   "cell_type": "markdown",
   "metadata": {},
   "source": [
    "December is the most popular month, but not by far. There is no strong seasonality, and the same holds for the `Quantity` column. Thus our idea of identifying periods when these products are more popular might be hard to implement. (Most products sell better in December so this is not actionable.)"
   ]
  },
  {
   "cell_type": "code",
   "execution_count": 99,
   "metadata": {},
   "outputs": [
    {
     "data": {
      "image/png": "[encoded data removed]",
      "text/plain": [
       "<matplotlib.figure.Figure at 0x7f1530bd6710>"
      ]
     },
     "metadata": {},
     "output_type": "display_data"
    }
   ],
   "source": [
    "df2.groupby('yearmonth').ProfitPerOrder.sum().plot.bar()\n",
    "plt.title(\"Some months have much higher profit\")\n",
    "plt.ylabel('Profit')\n",
    "plt.show()"
   ]
  },
  {
   "cell_type": "code",
   "execution_count": 100,
   "metadata": {
    "collapsed": true
   },
   "outputs": [],
   "source": [
    "profit_top2 = df2.ProfitPerOrder.sum()"
   ]
  },
  {
   "cell_type": "code",
   "execution_count": 101,
   "metadata": {},
   "outputs": [
    {
     "name": "stdout",
     "output_type": "stream",
     "text": [
      "If all months sold equally well, the profit percentage for any months would be 1.8\n"
     ]
    }
   ],
   "source": [
    "nr_yearmonth = df2.groupby('yearmonth').sum().shape[0]\n",
    "print(\"If all months sold equally well, the profit percentage for any months would be\", \n",
    "      np.round(100 / nr_yearmonth, 1))"
   ]
  },
  {
   "cell_type": "code",
   "execution_count": 102,
   "metadata": {},
   "outputs": [
    {
     "name": "stdout",
     "output_type": "stream",
     "text": [
      "top 5 months are not always in december, and they sell over 2 x 1.8\n"
     ]
    },
    {
     "data": {
      "text/plain": [
       "yearmonth\n",
       "2014-02    3.867260\n",
       "2014-03    3.980894\n",
       "2015-05    4.164335\n",
       "2014-12    4.779423\n",
       "2014-10    4.878202\n",
       "Freq: M, Name: ProfitPerOrder, dtype: float64"
      ]
     },
     "execution_count": 102,
     "metadata": {},
     "output_type": "execute_result"
    }
   ],
   "source": [
    "print(\"top 5 months are not always in december, and they sell over 2 x\", \n",
    "      np.round(100 / nr_yearmonth, 1))\n",
    "\n",
    "(df2.groupby('yearmonth').ProfitPerOrder.sum()/profit_top2*100).sort_values().tail()"
   ]
  },
  {
   "cell_type": "markdown",
   "metadata": {},
   "source": [
    "Further analysis is needed to understand what happened during these well performing months."
   ]
  },
  {
   "cell_type": "code",
   "execution_count": 103,
   "metadata": {
    "collapsed": true
   },
   "outputs": [],
   "source": [
    "del df2"
   ]
  },
  {
   "cell_type": "markdown",
   "metadata": {},
   "source": [
    "## Unprofitable products"
   ]
  },
  {
   "cell_type": "code",
   "execution_count": 104,
   "metadata": {},
   "outputs": [
    {
     "name": "stdout",
     "output_type": "stream",
     "text": [
      "There are  77 different products.\n",
      "The 50 least profitable products stand for  3.3 % of total profit\n"
     ]
    }
   ],
   "source": [
    "m = 50\n",
    "products_unprofit = df.groupby('ProductName')['ProfitPerOrder'].sum().sort_values().head(m) / profit*100\n",
    "\n",
    "print(\"There are \", df.ProductName.nunique(), \"different products.\")\n",
    "print(\"The\", m, \"least profitable products stand for \", np.round(products_unprofit.sum(), 1), \"% of total profit\")"
   ]
  },
  {
   "cell_type": "code",
   "execution_count": 105,
   "metadata": {},
   "outputs": [
    {
     "data": {
      "text/html": [
       "<div>\n",
       "<style>\n",
       "    .dataframe thead tr:only-child th {\n",
       "        text-align: right;\n",
       "    }\n",
       "\n",
       "    .dataframe thead th {\n",
       "        text-align: left;\n",
       "    }\n",
       "\n",
       "    .dataframe tbody tr th {\n",
       "        vertical-align: top;\n",
       "    }\n",
       "</style>\n",
       "<table border=\"1\" class=\"dataframe\">\n",
       "  <thead>\n",
       "    <tr style=\"text-align: right;\">\n",
       "      <th></th>\n",
       "      <th>ProfitPerOrder</th>\n",
       "      <th>CategoryName</th>\n",
       "    </tr>\n",
       "    <tr>\n",
       "      <th>ProductName</th>\n",
       "      <th></th>\n",
       "      <th></th>\n",
       "    </tr>\n",
       "  </thead>\n",
       "  <tbody>\n",
       "    <tr>\n",
       "      <th>Mehmet-Napp</th>\n",
       "      <td>5.850058</td>\n",
       "      <td>Baby Clothes</td>\n",
       "    </tr>\n",
       "    <tr>\n",
       "      <th>Tube Socks</th>\n",
       "      <td>16.675305</td>\n",
       "      <td>Sportswear</td>\n",
       "    </tr>\n",
       "    <tr>\n",
       "      <th>Mehmet-Skor</th>\n",
       "      <td>21.137346</td>\n",
       "      <td>Baby Clothes</td>\n",
       "    </tr>\n",
       "    <tr>\n",
       "      <th>Danske Treshoe</th>\n",
       "      <td>24.734662</td>\n",
       "      <td>Men's Footwear</td>\n",
       "    </tr>\n",
       "    <tr>\n",
       "      <th>O-Man Underwear</th>\n",
       "      <td>26.670996</td>\n",
       "      <td>Men's Clothes</td>\n",
       "    </tr>\n",
       "  </tbody>\n",
       "</table>\n",
       "</div>"
      ],
      "text/plain": [
       "                 ProfitPerOrder    CategoryName\n",
       "ProductName                                    \n",
       "Mehmet-Napp            5.850058    Baby Clothes\n",
       "Tube Socks            16.675305      Sportswear\n",
       "Mehmet-Skor           21.137346    Baby Clothes\n",
       "Danske Treshoe        24.734662  Men's Footwear\n",
       "O-Man Underwear       26.670996   Men's Clothes"
      ]
     },
     "execution_count": 105,
     "metadata": {},
     "output_type": "execute_result"
    }
   ],
   "source": [
    "# create table with product name, how much profit it has generated, and which category it is in\n",
    "tab1 = df.groupby('ProductName')[['ProfitPerOrder']].sum().sort_values(by='ProfitPerOrder')\n",
    "tab2 = df.groupby('ProductName')[['CategoryName']].min() # .min => one column is selected\n",
    "tab3 = tab1.join(tab2)\n",
    "del tab1, tab2\n",
    "tab3.head()"
   ]
  },
  {
   "cell_type": "code",
   "execution_count": 106,
   "metadata": {},
   "outputs": [
    {
     "name": "stdout",
     "output_type": "stream",
     "text": [
      "The 25 least profitable products are in these categories:\n"
     ]
    },
    {
     "data": {
      "text/plain": [
       "Women's Clothes     6\n",
       "Baby Clothes        5\n",
       "Sportswear          3\n",
       "Men's Footwear      3\n",
       "Swimwear            3\n",
       "Men's Clothes       3\n",
       "Women's Footwear    2\n",
       "Name: CategoryName, dtype: int64"
      ]
     },
     "execution_count": 106,
     "metadata": {},
     "output_type": "execute_result"
    }
   ],
   "source": [
    "k = 25\n",
    "print(\"The\", k, \"least profitable products are in these categories:\")\n",
    "tab3.head(k).CategoryName.value_counts()"
   ]
  },
  {
   "cell_type": "code",
   "execution_count": 107,
   "metadata": {},
   "outputs": [
    {
     "name": "stdout",
     "output_type": "stream",
     "text": [
      "Loose money on 16.2752465946 % of purchases\n"
     ]
    }
   ],
   "source": [
    "# unprofitable rows\n",
    "rows_loose_money = df.UnitPrice*(1-df.Discount) < df.UnitCost \n",
    "print(\"Loose money on\", rows_loose_money.mean()*100, \"% of purchases\")"
   ]
  },
  {
   "cell_type": "code",
   "execution_count": 108,
   "metadata": {},
   "outputs": [
    {
     "name": "stdout",
     "output_type": "stream",
     "text": [
      "Fraction of entire orders that are unprofitable: 0.132247755288\n"
     ]
    }
   ],
   "source": [
    "# unprofitable OrderID's\n",
    "print(\"Fraction of entire orders that are unprofitable:\",\n",
    "      (df.groupby('OrderID').ProfitPerOrder.sum() < 0).mean())"
   ]
  },
  {
   "cell_type": "code",
   "execution_count": 109,
   "metadata": {},
   "outputs": [
    {
     "data": {
      "image/png": "[encoded data removed]",
      "text/plain": [
       "<matplotlib.figure.Figure at 0x7f15308d87f0>"
      ]
     },
     "metadata": {},
     "output_type": "display_data"
    }
   ],
   "source": [
    "unprofit_categories = df.loc[rows_loose_money].groupby('CategoryName').size().sort_values() / n*100\n",
    "unprofit_categories.plot.barh()\n",
    "plt.title('Categories that are unprofitale most frequently')\n",
    "plt.xlabel('Percentage of unprofitable orders')\n",
    "plt.show()"
   ]
  },
  {
   "cell_type": "markdown",
   "metadata": {},
   "source": [
    "Interestingly, the `Women's Clothes` category contain some products that are unprofitable 2% of the time, so the category is median wrt unprofitability - even though the most profitable product by far is within this category. So we can suspect here are many unprofitable products within this category. We emphasize this because it might be tempting to cut out Children's Clother and Swimwear, but maybe the bad products within Women's Clothes perform worse."
   ]
  },
  {
   "cell_type": "markdown",
   "metadata": {},
   "source": [
    "# Appendix"
   ]
  },
  {
   "cell_type": "code",
   "execution_count": 110,
   "metadata": {},
   "outputs": [
    {
     "data": {
      "text/plain": [
       "count    17032.000000\n",
       "mean        39.760979\n",
       "std         36.060250\n",
       "min          0.000000\n",
       "25%         17.000000\n",
       "50%         25.000000\n",
       "75%         57.000000\n",
       "max        125.000000\n",
       "Name: UnitsInStock, dtype: float64"
      ]
     },
     "execution_count": 110,
     "metadata": {},
     "output_type": "execute_result"
    }
   ],
   "source": [
    "df.UnitsInStock.describe()"
   ]
  },
  {
   "cell_type": "code",
   "execution_count": 111,
   "metadata": {},
   "outputs": [
    {
     "data": {
      "text/plain": [
       "ProductName\n",
       "Davenport Shoes          14.593056\n",
       "Jack Flash Dress          1.113729\n",
       "O-Man Underwear           0.003062\n",
       "Rossi Bermuda Shorts      0.044209\n",
       "TieBreak Tennis shoes     0.115695\n",
       "Name: ProfitPerOrder, dtype: float64"
      ]
     },
     "execution_count": 111,
     "metadata": {},
     "output_type": "execute_result"
    }
   ],
   "source": [
    "# find product that have been out of stock\n",
    "prod_stockmin = df.groupby('ProductName').UnitsInStock.min()\n",
    "# save products that have been out of stock sometime \n",
    "prod_stockminzero = prod_stockmin[prod_stockmin == 0]\n",
    "# display the profit of these products\n",
    "profit_byproduct[prod_stockminzero.index] / profit*100"
   ]
  },
  {
   "cell_type": "markdown",
   "metadata": {},
   "source": [
    "The very profitable Davenport Shoes has been out of stock at least once. How many times has that happened?"
   ]
  },
  {
   "cell_type": "code",
   "execution_count": 112,
   "metadata": {},
   "outputs": [
    {
     "data": {
      "text/plain": [
       "count    250.0\n",
       "mean       0.0\n",
       "std        0.0\n",
       "min        0.0\n",
       "25%        0.0\n",
       "50%        0.0\n",
       "75%        0.0\n",
       "max        0.0\n",
       "Name: UnitsInStock, dtype: float64"
      ]
     },
     "execution_count": 112,
     "metadata": {},
     "output_type": "execute_result"
    }
   ],
   "source": [
    "df.loc[df.ProductName == 'Davenport Shoes', 'UnitsInStock'].describe()"
   ]
  },
  {
   "cell_type": "markdown",
   "metadata": {},
   "source": [
    "It is always out of stock. But how can it then be ordered? Clearly we do not understand this variable, or it does not make any sense. "
   ]
  },
  {
   "cell_type": "code",
   "execution_count": 113,
   "metadata": {},
   "outputs": [
    {
     "data": {
      "text/html": [
       "<div>\n",
       "<style>\n",
       "    .dataframe thead tr:only-child th {\n",
       "        text-align: right;\n",
       "    }\n",
       "\n",
       "    .dataframe thead th {\n",
       "        text-align: left;\n",
       "    }\n",
       "\n",
       "    .dataframe tbody tr th {\n",
       "        vertical-align: top;\n",
       "    }\n",
       "</style>\n",
       "<table border=\"1\" class=\"dataframe\">\n",
       "  <thead>\n",
       "    <tr style=\"text-align: right;\">\n",
       "      <th></th>\n",
       "      <th>OrderID</th>\n",
       "      <th>ProductName</th>\n",
       "      <th>UnitsInStock</th>\n",
       "      <th>UnitsOnOrder</th>\n",
       "      <th>Quantity</th>\n",
       "    </tr>\n",
       "  </thead>\n",
       "  <tbody>\n",
       "    <tr>\n",
       "      <th>239</th>\n",
       "      <td>10337</td>\n",
       "      <td>Bike Helmet</td>\n",
       "      <td>15</td>\n",
       "      <td>0</td>\n",
       "      <td>24</td>\n",
       "    </tr>\n",
       "    <tr>\n",
       "      <th>238</th>\n",
       "      <td>10337</td>\n",
       "      <td>Mehmet-Skor</td>\n",
       "      <td>11</td>\n",
       "      <td>50</td>\n",
       "      <td>28</td>\n",
       "    </tr>\n",
       "    <tr>\n",
       "      <th>237</th>\n",
       "      <td>10337</td>\n",
       "      <td>Mehmet-Tröja</td>\n",
       "      <td>112</td>\n",
       "      <td>0</td>\n",
       "      <td>20</td>\n",
       "    </tr>\n",
       "    <tr>\n",
       "      <th>236</th>\n",
       "      <td>10337</td>\n",
       "      <td>Oyaki Kimono</td>\n",
       "      <td>14</td>\n",
       "      <td>0</td>\n",
       "      <td>25</td>\n",
       "    </tr>\n",
       "    <tr>\n",
       "      <th>240</th>\n",
       "      <td>10337</td>\n",
       "      <td>DSW Sandals</td>\n",
       "      <td>61</td>\n",
       "      <td>0</td>\n",
       "      <td>40</td>\n",
       "    </tr>\n",
       "    <tr>\n",
       "      <th>40</th>\n",
       "      <td>10262</td>\n",
       "      <td>Runner Shoes</td>\n",
       "      <td>15</td>\n",
       "      <td>0</td>\n",
       "      <td>15</td>\n",
       "    </tr>\n",
       "    <tr>\n",
       "      <th>42</th>\n",
       "      <td>10262</td>\n",
       "      <td>O-Man Underwear</td>\n",
       "      <td>0</td>\n",
       "      <td>0</td>\n",
       "      <td>12</td>\n",
       "    </tr>\n",
       "    <tr>\n",
       "      <th>41</th>\n",
       "      <td>10262</td>\n",
       "      <td>Slip-on Shoes</td>\n",
       "      <td>21</td>\n",
       "      <td>10</td>\n",
       "      <td>2</td>\n",
       "    </tr>\n",
       "    <tr>\n",
       "      <th>336</th>\n",
       "      <td>10374</td>\n",
       "      <td>Onesy Dress</td>\n",
       "      <td>62</td>\n",
       "      <td>0</td>\n",
       "      <td>15</td>\n",
       "    </tr>\n",
       "    <tr>\n",
       "      <th>337</th>\n",
       "      <td>10374</td>\n",
       "      <td>Rossi Bermuda Shorts</td>\n",
       "      <td>0</td>\n",
       "      <td>70</td>\n",
       "      <td>30</td>\n",
       "    </tr>\n",
       "  </tbody>\n",
       "</table>\n",
       "</div>"
      ],
      "text/plain": [
       "     OrderID           ProductName  UnitsInStock  UnitsOnOrder  Quantity\n",
       "239    10337           Bike Helmet            15             0        24\n",
       "238    10337           Mehmet-Skor            11            50        28\n",
       "237    10337          Mehmet-Tröja           112             0        20\n",
       "236    10337          Oyaki Kimono            14             0        25\n",
       "240    10337           DSW Sandals            61             0        40\n",
       "40     10262          Runner Shoes            15             0        15\n",
       "42     10262       O-Man Underwear             0             0        12\n",
       "41     10262         Slip-on Shoes            21            10         2\n",
       "336    10374           Onesy Dress            62             0        15\n",
       "337    10374  Rossi Bermuda Shorts             0            70        30"
      ]
     },
     "execution_count": 113,
     "metadata": {},
     "output_type": "execute_result"
    }
   ],
   "source": [
    "df[['OrderID', 'ProductName', 'UnitsInStock', 'UnitsOnOrder', 'Quantity']].head(10)"
   ]
  },
  {
   "cell_type": "markdown",
   "metadata": {},
   "source": [
    "For the last row, units in stock is 0, units on order is 70, and quantity is 30. This makes no sense: Someone buys a quantity of 30, for a product that has no units in stock, yet there are 70 units on the order. We have \"solved\" this by ignoring the variables units in stock and units on order. Note that this heavily ties into the interpretation of how to define revenue and profit. Hence all the results might be wrong if we did not interpret the variables correctly. As there was no variable definitions at hand, this scenario is a possibility."
   ]
  },
  {
   "cell_type": "markdown",
   "metadata": {},
   "source": [
    "Code below gives an error."
   ]
  },
  {
   "cell_type": "raw",
   "metadata": {},
   "source": [
    "\"\"\"\n",
    "Description     : Simple Python implementation of the Apriori Algorithm\n",
    "\n",
    "Usage:\n",
    "    $python apriori.py -f DATASET.csv -s minSupport  -c minConfidence\n",
    "\n",
    "    $python apriori.py -f DATASET.csv -s 0.15 -c 0.6\n",
    "\"\"\"\n",
    "\n",
    "import sys\n",
    "\n",
    "from itertools import chain, combinations\n",
    "from collections import defaultdict\n",
    "from optparse import OptionParser\n",
    "\n",
    "\n",
    "def subsets(arr):\n",
    "    \"\"\" Returns non empty subsets of arr\"\"\"\n",
    "    return chain(*[combinations(arr, i + 1) for i, a in enumerate(arr)])\n",
    "\n",
    "\n",
    "def returnItemsWithMinSupport(itemSet, transactionList, minSupport, freqSet):\n",
    "        \"\"\"calculates the support for items in the itemSet and returns a subset\n",
    "       of the itemSet each of whose elements satisfies the minimum support\"\"\"\n",
    "        _itemSet = set()\n",
    "        localSet = defaultdict(int)\n",
    "\n",
    "        for item in itemSet:\n",
    "                for transaction in transactionList:\n",
    "                        if item.issubset(transaction):\n",
    "                                freqSet[item] += 1\n",
    "                                localSet[item] += 1\n",
    "\n",
    "        for item, count in localSet.items():\n",
    "                support = float(count)/len(transactionList)\n",
    "\n",
    "                if support >= minSupport:\n",
    "                        _itemSet.add(item)\n",
    "\n",
    "        return _itemSet\n",
    "\n",
    "\n",
    "def joinSet(itemSet, length):\n",
    "        \"\"\"Join a set with itself and returns the n-element itemsets\"\"\"\n",
    "        return set([i.union(j) for i in itemSet for j in itemSet if len(i.union(j)) == length])\n",
    "\n",
    "\n",
    "def getItemSetTransactionList(data_iterator):\n",
    "    transactionList = list()\n",
    "    itemSet = set()\n",
    "    for record in data_iterator:\n",
    "        transaction = frozenset(record)\n",
    "        transactionList.append(transaction)\n",
    "        for item in transaction:\n",
    "            itemSet.add(frozenset([item]))              # Generate 1-itemSets\n",
    "    return itemSet, transactionList\n",
    "\n",
    "\n",
    "def runApriori(data_iter, minSupport, minConfidence):\n",
    "    \"\"\"\n",
    "    run the apriori algorithm. data_iter is a record iterator\n",
    "    Return both:\n",
    "     - items (tuple, support)\n",
    "     - rules ((pretuple, posttuple), confidence)\n",
    "    \"\"\"\n",
    "    itemSet, transactionList = getItemSetTransactionList(data_iter)\n",
    "\n",
    "    freqSet = defaultdict(int)\n",
    "    largeSet = dict()\n",
    "    # Global dictionary which stores (key=n-itemSets,value=support)\n",
    "    # which satisfy minSupport\n",
    "\n",
    "    assocRules = dict()\n",
    "    # Dictionary which stores Association Rules\n",
    "\n",
    "    oneCSet = returnItemsWithMinSupport(itemSet,\n",
    "                                        transactionList,\n",
    "                                        minSupport,\n",
    "                                        freqSet)\n",
    "\n",
    "    currentLSet = oneCSet\n",
    "    k = 2\n",
    "    while(currentLSet != set([])):\n",
    "        largeSet[k-1] = currentLSet\n",
    "        currentLSet = joinSet(currentLSet, k)\n",
    "        currentCSet = returnItemsWithMinSupport(currentLSet,\n",
    "                                                transactionList,\n",
    "                                                minSupport,\n",
    "                                                freqSet)\n",
    "        currentLSet = currentCSet\n",
    "        k = k + 1\n",
    "\n",
    "    def getSupport(item):\n",
    "            \"\"\"local function which Returns the support of an item\"\"\"\n",
    "            return float(freqSet[item])/len(transactionList)\n",
    "\n",
    "    toRetItems = []\n",
    "    for key, value in largeSet.items():\n",
    "        toRetItems.extend([(tuple(item), getSupport(item))\n",
    "                           for item in value])\n",
    "\n",
    "    toRetRules = []\n",
    "    for key, value in largeSet.items()[1:]:\n",
    "        for item in value:\n",
    "            _subsets = map(frozenset, [x for x in subsets(item)])\n",
    "            for element in _subsets:\n",
    "                remain = item.difference(element)\n",
    "                if len(remain) > 0:\n",
    "                    confidence = getSupport(item)/getSupport(element)\n",
    "                    if confidence >= minConfidence:\n",
    "                        toRetRules.append(((tuple(element), tuple(remain)),\n",
    "                                           confidence))\n",
    "    return toRetItems, toRetRules\n",
    "\n",
    "\n",
    "def printResults(items, rules):\n",
    "    \"\"\"prints the generated itemsets sorted by support and the confidence rules sorted by confidence\"\"\"\n",
    "    for item, support in sorted(items, key=lambda(item, support): support):\n",
    "        print \"item: %s , %.3f\" % (str(item), support)\n",
    "    print \"\\n------------------------ RULES:\"\n",
    "    for rule, confidence in sorted(rules, key=lambda(rule, confidence): confidence):\n",
    "        pre, post = rule\n",
    "        print \"Rule: %s ==> %s , %.3f\" % (str(pre), str(post), confidence)\n",
    "\n",
    "\n",
    "def dataFromFile(fname):\n",
    "        \"\"\"Function which reads from the file and yields a generator\"\"\"\n",
    "        file_iter = open(fname, 'rU')\n",
    "        for line in file_iter:\n",
    "                line = line.strip().rstrip(',')                         # Remove trailing comma\n",
    "                record = frozenset(line.split(','))\n",
    "                yield record\n",
    "\n",
    "\n",
    "if __name__ == \"__main__\":\n",
    "\n",
    "    optparser = OptionParser()\n",
    "    optparser.add_option('-f', '--inputFile',\n",
    "                         dest='input',\n",
    "                         help='filename containing csv',\n",
    "                         default=None)\n",
    "    optparser.add_option('-s', '--minSupport',\n",
    "                         dest='minS',\n",
    "                         help='minimum support value',\n",
    "                         default=0.15,\n",
    "                         type='float')\n",
    "    optparser.add_option('-c', '--minConfidence',\n",
    "                         dest='minC',\n",
    "                         help='minimum confidence value',\n",
    "                         default=0.6,\n",
    "                         type='float')\n",
    "\n",
    "    (options, args) = optparser.parse_args()\n",
    "\n",
    "    inFile = None\n",
    "    if options.input is None:\n",
    "            inFile = sys.stdin\n",
    "    elif options.input is not None:\n",
    "            inFile = dataFromFile(options.input)\n",
    "    else:\n",
    "            print 'No dataset filename specified, system with exit\\n'\n",
    "            sys.exit('System will exit')\n",
    "\n",
    "    minSupport = options.minS\n",
    "    minConfidence = options.minC\n",
    "\n",
    "    items, rules = runApriori(inFile, minSupport, minConfidence)\n",
    "\n",
    "    printResults(items, rules)"
   ]
  },
  {
   "cell_type": "code",
   "execution_count": 114,
   "metadata": {},
   "outputs": [
    {
     "data": {
      "text/plain": [
       "<seaborn.axisgrid.JointGrid at 0x7f1530ae32b0>"
      ]
     },
     "execution_count": 114,
     "metadata": {},
     "output_type": "execute_result"
    },
    {
     "data": {
      "image/png": "[encoded data removed]",
      "text/plain": [
       "<matplotlib.figure.Figure at 0x7f1530bd6f98>"
      ]
     },
     "metadata": {},
     "output_type": "display_data"
    }
   ],
   "source": [
    "sns.jointplot(x=\"UnitPrice\", y=\"Quantity\", data=df)"
   ]
  },
  {
   "cell_type": "code",
   "execution_count": 115,
   "metadata": {},
   "outputs": [
    {
     "data": {
      "text/plain": [
       "<seaborn.axisgrid.JointGrid at 0x7f15307878d0>"
      ]
     },
     "execution_count": 115,
     "metadata": {},
     "output_type": "execute_result"
    },
    {
     "data": {
      "image/png": "[encoded data removed]",
      "text/plain": [
       "<matplotlib.figure.Figure at 0x7f15307875f8>"
      ]
     },
     "metadata": {},
     "output_type": "display_data"
    }
   ],
   "source": [
    "sns.jointplot(x=\"PricePerOrder\", y=\"Quantity\", data=df)"
   ]
  },
  {
   "cell_type": "code",
   "execution_count": 116,
   "metadata": {},
   "outputs": [
    {
     "data": {
      "text/plain": [
       "<seaborn.axisgrid.JointGrid at 0x7f153045e278>"
      ]
     },
     "execution_count": 116,
     "metadata": {},
     "output_type": "execute_result"
    },
    {
     "data": {
      "image/png": "[encoded data removed]",
      "text/plain": [
       "<matplotlib.figure.Figure at 0x7f15307ec4a8>"
      ]
     },
     "metadata": {},
     "output_type": "display_data"
    }
   ],
   "source": [
    "sns.jointplot(x=\"Freight\", y=\"Quantity\", data=df)"
   ]
  }
 ],
 "metadata": {
  "kernelspec": {
   "display_name": "Python 3",
   "language": "python",
   "name": "python3"
  },
  "language_info": {
   "codemirror_mode": {
    "name": "ipython",
    "version": 3
   },
   "file_extension": ".py",
   "mimetype": "text/x-python",
   "name": "python",
   "nbconvert_exporter": "python",
   "pygments_lexer": "ipython3",
   "version": "3.6.3"
  }
 },
 "nbformat": 4,
 "nbformat_minor": 2
}
